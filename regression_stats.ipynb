{
 "cells": [
  {
   "metadata": {
    "ExecuteTime": {
     "end_time": "2025-07-11T13:29:17.615883Z",
     "start_time": "2025-07-11T13:29:17.607756Z"
    }
   },
   "cell_type": "code",
   "source": [
    "import numpy as np\n",
    "import pandas as pd\n",
    "import statsmodels.api as sm\n",
    "from sklearn.preprocessing import StandardScaler\n",
    "from statsmodels.stats.outliers_influence import variance_inflation_factor"
   ],
   "id": "77408e8d00883259",
   "outputs": [],
   "execution_count": 14
  },
  {
   "metadata": {
    "ExecuteTime": {
     "end_time": "2025-07-11T13:29:17.687373Z",
     "start_time": "2025-07-11T13:29:17.625888Z"
    }
   },
   "cell_type": "code",
   "source": "df = pd.read_csv('source/FReDA2.csv')",
   "id": "524056f7895e51b6",
   "outputs": [],
   "execution_count": 15
  },
  {
   "metadata": {
    "ExecuteTime": {
     "end_time": "2025-07-11T13:29:17.772652Z",
     "start_time": "2025-07-11T13:29:17.765763Z"
    }
   },
   "cell_type": "code",
   "source": [
    "touch_factors = [\n",
    "    'Anchor Frequency of Touch',\n",
    "    'Anchor Wish for Touch',\n",
    "\n",
    "    'Partner Frequency of Touch',\n",
    "    'Partner Wish for Touch',\n",
    "]\n",
    "\n",
    "relationship_touch_factors = [\n",
    "    'Anchor Deprivation of Touch',\n",
    "    'Anchor Saturation of Touch',\n",
    "\n",
    "    'Partner Deprivation of Touch',\n",
    "    'Partner Saturation of Touch'\n",
    "]\n",
    "\n",
    "individual_factors = [\n",
    "    'Anchor Age',\n",
    "    'Anchor Work Status',\n",
    "    # 'Anchor East',\n",
    "    # 'Anchor Urbanization',\n",
    "\n",
    "    'Partner Age',\n",
    "    'Partner Work Status',\n",
    "    # 'Partner East',\n",
    "    # 'Partner Urbanization'\n",
    "]\n",
    "\n",
    "personality_factors = [\n",
    "    'Anchor Extraversion',\n",
    "    'Anchor Agreeableness',\n",
    "    'Anchor Conscientiousness',\n",
    "    'Anchor Openness',\n",
    "    'Anchor Neuroticism',\n",
    "    'Anchor Conservatism',\n",
    "    # 'Anchor Religiosity',\n",
    "\n",
    "    'Partner Extraversion',\n",
    "    'Partner Agreeableness',\n",
    "    'Partner Conscientiousness',\n",
    "    'Partner Openness',\n",
    "    'Partner Neuroticism',\n",
    "    'Partner Conservatism',\n",
    "    # 'Partner Religiosity',\n",
    "]\n",
    "\n",
    "wellbeing_factors = [\n",
    "    'Anchor Depressiveness',\n",
    "    'Anchor Loneliness',\n",
    "    'Anchor Self-esteem',\n",
    "    'Anchor Life Satisfaction',\n",
    "    'Anchor Health',\n",
    "\n",
    "    'Partner Depressiveness',\n",
    "    'Partner Loneliness',\n",
    "    'Partner Self-esteem',\n",
    "    'Partner Life Satisfaction',\n",
    "    'Partner Health',\n",
    "]\n",
    "\n",
    "relationship_factors = [\n",
    "    # 'Relationship Sex',\n",
    "    'Relationship Length',\n",
    "    # 'Age difference',\n",
    "    'Married',\n",
    "    'Cohabitation',\n",
    "    'Kids',\n",
    "\n",
    "    'Anchor Communication Quality',\n",
    "    'Anchor Relationship Satisfaction',\n",
    "    'Anchor Conflict Management',\n",
    "\n",
    "    'Partner Communication Quality',\n",
    "    'Partner Relationship Satisfaction',\n",
    "    'Partner Conflict Management',\n",
    "]"
   ],
   "id": "272a2ab71144af3f",
   "outputs": [],
   "execution_count": 16
  },
  {
   "metadata": {
    "ExecuteTime": {
     "end_time": "2025-07-11T13:29:17.937692Z",
     "start_time": "2025-07-11T13:29:17.847096Z"
    }
   },
   "cell_type": "code",
   "source": [
    "_agreement_group = df[\n",
    "    (df['Anchor Perception of Touch'] == 'Just Enough')\n",
    "    &\n",
    "    (df['Partner Perception of Touch'] == 'Just Enough')\n",
    "    ].reset_index(drop=True)\n",
    "\n",
    "_disagreement_group = df[\n",
    "    (\n",
    "            (df['Anchor Perception of Touch'] == 'Saturated')\n",
    "            &\n",
    "            (df['Partner Perception of Touch'] == 'Saturated')\n",
    "    )\n",
    "    |\n",
    "    (\n",
    "            (df['Anchor Perception of Touch'] == 'Deprived')\n",
    "            &\n",
    "            (df['Partner Perception of Touch'] == 'Deprived')\n",
    "    )\n",
    "    ].reset_index(drop=True)\n",
    "\n",
    "_mixed_group = df.merge(pd.concat([_agreement_group, _disagreement_group]), how='outer', indicator=True)\n",
    "_mixed_group = _mixed_group[_mixed_group['_merge'] == 'left_only'].drop(columns=['_merge']).reset_index(drop=True)"
   ],
   "id": "f43fbb059ad17e1d",
   "outputs": [],
   "execution_count": 17
  },
  {
   "metadata": {},
   "cell_type": "code",
   "source": [
    "def run_blockwise_regression(df, outcome_var, blocks):\n",
    "    \"\"\"\n",
    "    Run block-wise regression on selected group and outcome variable.\n",
    "\n",
    "    Parameters:\n",
    "    - df: DataFrame containing your data\n",
    "    - outcome_var: string, outcome column name\n",
    "    - blocks: dict, where keys are block names and values are lists of variable names\n",
    "    - group: optional string (e.g., \"Agreement\") to subset by 'Group' column\n",
    "\n",
    "    Returns:\n",
    "    - List of fitted models, one for each block addition\n",
    "    \"\"\"\n",
    "\n",
    "    # Drop missing values\n",
    "    all_vars = sum(blocks.values(), []) + [outcome_var]\n",
    "    df = df.dropna(subset=all_vars)\n",
    "\n",
    "    y = df[outcome_var]\n",
    "    models = []\n",
    "\n",
    "    current_predictors = []\n",
    "    for block_name, predictors in blocks.items():\n",
    "        current_predictors += predictors\n",
    "\n",
    "        # Scale predictors\n",
    "        scaler = StandardScaler()\n",
    "        X_block = pd.DataFrame(scaler.fit_transform(df[current_predictors]), columns=current_predictors, index=df.index)\n",
    "        X_block = sm.add_constant(X_block)\n",
    "\n",
    "        model = sm.OLS(y, X_block).fit()\n",
    "        print(f\"\\n--- {block_name.upper()} BLOCK ---\")\n",
    "        print(model.summary())\n",
    "        models.append((block_name, model))\n",
    "\n",
    "        # Calculate and display VIF\n",
    "        vif_data = pd.DataFrame()\n",
    "        vif_data[\"feature\"] = X_block.columns\n",
    "        vif_data[\"VIF\"] = [variance_inflation_factor(X_block.values, i) for i in range(X_block.shape[1])]\n",
    "        print(\"\\n--- Variance Inflation Factors ---\")\n",
    "        print(vif_data)\n",
    "\n",
    "    return models\n",
    "\n",
    "blocks = {\n",
    "    \"Individual\": individual_factors,\n",
    "    \"Personality\": personality_factors,\n",
    "    \"Wellbeing\": wellbeing_factors,\n",
    "    \"Relationship\": relationship_factors\n",
    "}\n",
    "\n",
    "models_agreement = run_blockwise_regression(_disagreement_group, 'Anchor Frequency of Touch', blocks)"
   ],
   "id": "c087e60a16788a37",
   "outputs": [],
   "execution_count": null
  },
  {
   "metadata": {
    "ExecuteTime": {
     "end_time": "2025-07-11T13:39:01.292044Z",
     "start_time": "2025-07-11T13:39:01.285548Z"
    }
   },
   "cell_type": "code",
   "source": "# TODO: Build table for predictors, y = predictors (divided by grouped characteristics: Personality, wellbeing, etc.., x = groups",
   "id": "6a6f54133d35026b",
   "outputs": [],
   "execution_count": 25
  },
  {
   "metadata": {},
   "cell_type": "code",
   "outputs": [],
   "execution_count": null,
   "source": "",
   "id": "1ea0163ee3af421e"
  }
 ],
 "metadata": {
  "kernelspec": {
   "display_name": "Python 3",
   "language": "python",
   "name": "python3"
  },
  "language_info": {
   "codemirror_mode": {
    "name": "ipython",
    "version": 2
   },
   "file_extension": ".py",
   "mimetype": "text/x-python",
   "name": "python",
   "nbconvert_exporter": "python",
   "pygments_lexer": "ipython2",
   "version": "2.7.6"
  }
 },
 "nbformat": 4,
 "nbformat_minor": 5
}
