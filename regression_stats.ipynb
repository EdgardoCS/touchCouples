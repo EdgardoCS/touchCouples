{
 "cells": [
  {
   "metadata": {
    "ExecuteTime": {
     "end_time": "2025-07-24T13:44:13.773442Z",
     "start_time": "2025-07-24T13:44:13.767922Z"
    }
   },
   "cell_type": "code",
   "source": [
    "import numpy as np\n",
    "import pandas as pd\n",
    "import seaborn as sns\n",
    "import statsmodels.api as sm\n",
    "from sklearn.preprocessing import StandardScaler\n",
    "from statsmodels.stats.outliers_influence import variance_inflation_factor\n",
    "from statsmodels.miscmodels.ordinal_model import OrderedModel\n"
   ],
   "id": "77408e8d00883259",
   "outputs": [],
   "execution_count": 101
  },
  {
   "metadata": {
    "ExecuteTime": {
     "end_time": "2025-07-24T13:44:13.902718Z",
     "start_time": "2025-07-24T13:44:13.827668Z"
    }
   },
   "cell_type": "code",
   "source": "df = pd.read_csv('source/FReDA2.csv')",
   "id": "71dbba19f926330f",
   "outputs": [],
   "execution_count": 102
  },
  {
   "metadata": {
    "ExecuteTime": {
     "end_time": "2025-07-24T13:44:13.929716Z",
     "start_time": "2025-07-24T13:44:13.909726Z"
    }
   },
   "cell_type": "code",
   "source": [
    "def val_to_category(val):\n",
    "    if val < 0.5: return 0\n",
    "    elif val < 2: return 1\n",
    "    elif val < 3: return 2\n",
    "    elif val < 4: return 3\n",
    "    elif val < 5: return 4\n",
    "    else: return 5\n",
    "\n",
    "df['Anchor FreqCat'] = df['Anchor Frequency of Touch'].apply(val_to_category)\n",
    "df['Anchor WishCat'] = df['Anchor Wish for Touch'].apply(val_to_category)\n",
    "df['Partner FreqCat'] = df['Partner Frequency of Touch'].apply(val_to_category)\n",
    "df['Partner WishCat'] = df['Partner Wish for Touch'].apply(val_to_category)"
   ],
   "id": "9ca232e6a0efc658",
   "outputs": [],
   "execution_count": 103
  },
  {
   "metadata": {
    "ExecuteTime": {
     "end_time": "2025-07-24T13:44:13.968537Z",
     "start_time": "2025-07-24T13:44:13.964385Z"
    }
   },
   "cell_type": "code",
   "source": [
    "dependent = [\n",
    "    'Anchor FreqCat',\n",
    "    'Anchor WishCat',\n",
    "    'Partner FreqCat',\n",
    "    'Partner WishCat',\n",
    "    #\n",
    "    # 'Anchor Frequency of Touch',\n",
    "    # 'Partner Frequency of Touch',\n",
    "    # 'Anchor Wish for Touch',\n",
    "    # 'Partner Wish for Touch',\n",
    "    # 'Couple Frequency of Touch',\n",
    "    # 'Couple Wish for Touch'\n",
    "]"
   ],
   "id": "ce7e8754b8412007",
   "outputs": [],
   "execution_count": 104
  },
  {
   "metadata": {
    "ExecuteTime": {
     "end_time": "2025-07-24T13:44:14.007750Z",
     "start_time": "2025-07-24T13:44:14.001843Z"
    }
   },
   "cell_type": "code",
   "source": [
    "independent = [\n",
    "    'Anchor Difference of Touch',\n",
    "    'Partner Difference of Touch',\n",
    "\n",
    "    'Anchor Age',\n",
    "    'Anchor Work Status',\n",
    "    # 'Anchor East',\n",
    "    # 'Anchor Urbanization',\n",
    "\n",
    "    'Partner Age',\n",
    "    'Partner Work Status',\n",
    "    # 'Partner East',\n",
    "    # 'Partner Urbanization'\n",
    "    'Anchor Extraversion',\n",
    "    'Anchor Agreeableness',\n",
    "    'Anchor Conscientiousness',\n",
    "    'Anchor Openness',\n",
    "    'Anchor Neuroticism',\n",
    "    'Anchor Conservatism',\n",
    "    # 'Anchor Religiosity',\n",
    "\n",
    "    'Partner Extraversion',\n",
    "    'Partner Agreeableness',\n",
    "    'Partner Conscientiousness',\n",
    "    'Partner Openness',\n",
    "    'Partner Neuroticism',\n",
    "    'Partner Conservatism',\n",
    "    # 'Partner Religiosity',\n",
    "    'Anchor Depressiveness',\n",
    "    'Anchor Loneliness',\n",
    "    'Anchor Self-esteem',\n",
    "    'Anchor Life Satisfaction',\n",
    "    'Anchor Health',\n",
    "\n",
    "    'Partner Depressiveness',\n",
    "    'Partner Loneliness',\n",
    "    'Partner Self-esteem',\n",
    "    'Partner Life Satisfaction',\n",
    "    'Partner Health',\n",
    "\n",
    "    # 'Relationship Sex',\n",
    "    'Relationship Length',\n",
    "    # 'Age difference',\n",
    "    'Married',\n",
    "    'Cohabitation',\n",
    "    'Kids',\n",
    "\n",
    "    'Anchor Communication Quality',\n",
    "    'Anchor Relationship Satisfaction',\n",
    "    'Anchor Conflict Management',\n",
    "\n",
    "    'Partner Communication Quality',\n",
    "    'Partner Relationship Satisfaction',\n",
    "    'Partner Conflict Management',\n",
    "]"
   ],
   "id": "eff35a5569da7f0e",
   "outputs": [],
   "execution_count": 105
  },
  {
   "metadata": {
    "ExecuteTime": {
     "end_time": "2025-07-24T13:44:14.081920Z",
     "start_time": "2025-07-24T13:44:14.074692Z"
    }
   },
   "cell_type": "code",
   "source": "df['Group'].value_counts()",
   "id": "272a2ab71144af3f",
   "outputs": [
    {
     "data": {
      "text/plain": [
       "Group\n",
       "Disagreement    3131\n",
       "Agreement       1922\n",
       "Concession      1746\n",
       "Name: count, dtype: int64"
      ]
     },
     "execution_count": 106,
     "metadata": {},
     "output_type": "execute_result"
    }
   ],
   "execution_count": 106
  },
  {
   "metadata": {
    "ExecuteTime": {
     "end_time": "2025-07-24T13:44:14.165659Z",
     "start_time": "2025-07-24T13:44:14.155362Z"
    }
   },
   "cell_type": "code",
   "source": "df = df.dropna().reset_index(drop=True)",
   "id": "d7ef52ae31297f4d",
   "outputs": [],
   "execution_count": 107
  },
  {
   "metadata": {
    "ExecuteTime": {
     "end_time": "2025-07-24T13:44:14.233437Z",
     "start_time": "2025-07-24T13:44:14.229923Z"
    }
   },
   "cell_type": "code",
   "source": [
    "# group_agreement = df[df['Group'] == 'Agreement'].dropna().reset_index(drop=True)\n",
    "# group_disagreement = df[df['Group'] == 'Disagreement'].dropna().reset_index(drop=True)\n",
    "# group_mix = df[df['Group'] == 'Mixed'].dropna().reset_index(drop=True)"
   ],
   "id": "f43fbb059ad17e1d",
   "outputs": [],
   "execution_count": 108
  },
  {
   "metadata": {
    "ExecuteTime": {
     "end_time": "2025-07-24T13:44:14.322190Z",
     "start_time": "2025-07-24T13:44:14.314683Z"
    }
   },
   "cell_type": "code",
   "source": [
    "test_group = df[df['Group'] == 'Concession']\n",
    "print(test_group['Id'].size)"
   ],
   "id": "f62980e889cfdf20",
   "outputs": [
    {
     "name": "stdout",
     "output_type": "stream",
     "text": [
      "1257\n"
     ]
    }
   ],
   "execution_count": 109
  },
  {
   "metadata": {
    "ExecuteTime": {
     "end_time": "2025-07-24T13:44:14.358356Z",
     "start_time": "2025-07-24T13:44:14.354356Z"
    }
   },
   "cell_type": "code",
   "source": [
    "# target = df\n",
    "#\n",
    "# x = target[independent]\n",
    "# x = sm.add_constant(x)  # add intercept\n",
    "#\n",
    "# for d in dependent:\n",
    "#     y = target[d]\n",
    "#     model_freq = sm.OLS(y, x, missing='drop').fit()\n",
    "#     print(model_freq.summary())"
   ],
   "id": "c087e60a16788a37",
   "outputs": [],
   "execution_count": 110
  },
  {
   "metadata": {
    "ExecuteTime": {
     "end_time": "2025-07-24T13:44:54.336667Z",
     "start_time": "2025-07-24T13:44:14.420094Z"
    }
   },
   "cell_type": "code",
   "source": [
    "target = df\n",
    "\n",
    "x = target[independent]\n",
    "\n",
    "for d in dependent:\n",
    "    y = target[d]\n",
    "    mod = OrderedModel(y, x, distr='logit')\n",
    "    res = mod.fit(method='bfgs')\n",
    "    print(res.summary())\n"
   ],
   "id": "13ddd719f5781768",
   "outputs": [
    {
     "name": "stdout",
     "output_type": "stream",
     "text": [
      "Optimization terminated successfully.\n",
      "         Current function value: 1.341527\n",
      "         Iterations: 61\n",
      "         Function evaluations: 63\n",
      "         Gradient evaluations: 63\n",
      "                             OrderedModel Results                             \n",
      "==============================================================================\n",
      "Dep. Variable:         Anchor FreqCat   Log-Likelihood:                -6423.2\n",
      "Model:                   OrderedModel   AIC:                         1.293e+04\n",
      "Method:            Maximum Likelihood   BIC:                         1.321e+04\n",
      "Date:                Thu, 24 Jul 2025                                         \n",
      "Time:                        15:44:24                                         \n",
      "No. Observations:                4788                                         \n",
      "Df Residuals:                    4745                                         \n",
      "Df Model:                          38                                         \n",
      "=====================================================================================================\n",
      "                                        coef    std err          z      P>|z|      [0.025      0.975]\n",
      "-----------------------------------------------------------------------------------------------------\n",
      "Anchor Difference of Touch           -0.8946      0.040    -22.212      0.000      -0.974      -0.816\n",
      "Partner Difference of Touch          -0.2223      0.037     -6.032      0.000      -0.294      -0.150\n",
      "Anchor Age                           -0.0128      0.007     -1.864      0.062      -0.026       0.001\n",
      "Anchor Work Status                    0.1291      0.044      2.939      0.003       0.043       0.215\n",
      "Partner Age                          -0.0103      0.006     -1.749      0.080      -0.022       0.001\n",
      "Partner Work Status                   0.0911      0.044      2.092      0.036       0.006       0.176\n",
      "Anchor Extraversion                   0.0603      0.015      4.092      0.000       0.031       0.089\n",
      "Anchor Agreeableness                  0.0411      0.015      2.816      0.005       0.012       0.070\n",
      "Anchor Conscientiousness             -0.0294      0.014     -2.145      0.032      -0.056      -0.003\n",
      "Anchor Openness                       0.0180      0.013      1.386      0.166      -0.007       0.043\n",
      "Anchor Neuroticism                   -0.0150      0.017     -0.883      0.377      -0.048       0.018\n",
      "Anchor Conservatism                  -0.0073      0.006     -1.230      0.219      -0.019       0.004\n",
      "Partner Extraversion                  0.0324      0.014      2.279      0.023       0.005       0.060\n",
      "Partner Agreeableness                 0.0164      0.015      1.122      0.262      -0.012       0.045\n",
      "Partner Conscientiousness            -0.0436      0.013     -3.251      0.001      -0.070      -0.017\n",
      "Partner Openness                      0.0202      0.013      1.534      0.125      -0.006       0.046\n",
      "Partner Neuroticism                   0.0193      0.017      1.144      0.252      -0.014       0.052\n",
      "Partner Conservatism                  0.0040      0.006      0.676      0.499      -0.008       0.016\n",
      "Anchor Depressiveness                 0.1218      0.025      4.865      0.000       0.073       0.171\n",
      "Anchor Loneliness                    -0.0474      0.032     -1.465      0.143      -0.111       0.016\n",
      "Anchor Self-esteem                   -0.0190      0.016     -1.207      0.227      -0.050       0.012\n",
      "Anchor Life Satisfaction              0.0173      0.022      0.777      0.437      -0.026       0.061\n",
      "Anchor Health                         0.0393      0.041      0.954      0.340      -0.041       0.120\n",
      "Partner Depressiveness                0.0008      0.025      0.031      0.975      -0.048       0.050\n",
      "Partner Loneliness                   -0.0195      0.033     -0.586      0.558      -0.084       0.046\n",
      "Partner Self-esteem                  -0.0339      0.016     -2.133      0.033      -0.065      -0.003\n",
      "Partner Life Satisfaction            -0.0009      0.024     -0.040      0.968      -0.047       0.045\n",
      "Partner Health                       -0.0483      0.040     -1.203      0.229      -0.127       0.030\n",
      "Relationship Length                  -0.1968      0.035     -5.674      0.000      -0.265      -0.129\n",
      "Married                              -0.1310      0.074     -1.763      0.078      -0.277       0.015\n",
      "Cohabitation                          0.6650      0.131      5.072      0.000       0.408       0.922\n",
      "Kids                                 -0.0308      0.035     -0.888      0.374      -0.099       0.037\n",
      "Anchor Communication Quality          0.1324      0.012     11.154      0.000       0.109       0.156\n",
      "Anchor Relationship Satisfaction      0.2948      0.024     12.172      0.000       0.247       0.342\n",
      "Anchor Conflict Management           -0.0123      0.011     -1.069      0.285      -0.035       0.010\n",
      "Partner Communication Quality         0.0490      0.012      4.064      0.000       0.025       0.073\n",
      "Partner Relationship Satisfaction     0.0732      0.024      3.080      0.002       0.027       0.120\n",
      "Partner Conflict Management          -0.0193      0.011     -1.690      0.091      -0.042       0.003\n",
      "0/1                                   1.7297      0.700      2.472      0.013       0.358       3.101\n",
      "1/2                                   1.2371      0.030     41.664      0.000       1.179       1.295\n",
      "2/3                                   0.4123      0.027     15.415      0.000       0.360       0.465\n",
      "3/4                                   0.3999      0.027     15.023      0.000       0.348       0.452\n",
      "4/5                                   0.6300      0.034     18.716      0.000       0.564       0.696\n",
      "=====================================================================================================\n",
      "Optimization terminated successfully.\n",
      "         Current function value: 1.399202\n",
      "         Iterations: 62\n",
      "         Function evaluations: 65\n",
      "         Gradient evaluations: 65\n",
      "                             OrderedModel Results                             \n",
      "==============================================================================\n",
      "Dep. Variable:         Anchor WishCat   Log-Likelihood:                -6699.4\n",
      "Model:                   OrderedModel   AIC:                         1.348e+04\n",
      "Method:            Maximum Likelihood   BIC:                         1.376e+04\n",
      "Date:                Thu, 24 Jul 2025                                         \n",
      "Time:                        15:44:34                                         \n",
      "No. Observations:                4788                                         \n",
      "Df Residuals:                    4745                                         \n",
      "Df Model:                          38                                         \n",
      "=====================================================================================================\n",
      "                                        coef    std err          z      P>|z|      [0.025      0.975]\n",
      "-----------------------------------------------------------------------------------------------------\n",
      "Anchor Difference of Touch            1.0495      0.040     26.540      0.000       0.972       1.127\n",
      "Partner Difference of Touch          -0.2130      0.036     -5.905      0.000      -0.284      -0.142\n",
      "Anchor Age                           -0.0092      0.007     -1.353      0.176      -0.023       0.004\n",
      "Anchor Work Status                    0.1241      0.043      2.867      0.004       0.039       0.209\n",
      "Partner Age                          -0.0115      0.006     -1.980      0.048      -0.023      -0.000\n",
      "Partner Work Status                   0.0870      0.043      2.024      0.043       0.003       0.171\n",
      "Anchor Extraversion                   0.0561      0.014      3.874      0.000       0.028       0.085\n",
      "Anchor Agreeableness                  0.0393      0.014      2.723      0.006       0.011       0.068\n",
      "Anchor Conscientiousness             -0.0248      0.014     -1.835      0.067      -0.051       0.002\n",
      "Anchor Openness                       0.0153      0.013      1.192      0.233      -0.010       0.040\n",
      "Anchor Neuroticism                   -0.0154      0.017     -0.919      0.358      -0.048       0.017\n",
      "Anchor Conservatism                  -0.0080      0.006     -1.375      0.169      -0.019       0.003\n",
      "Partner Extraversion                  0.0358      0.014      2.537      0.011       0.008       0.063\n",
      "Partner Agreeableness                 0.0212      0.014      1.477      0.140      -0.007       0.049\n",
      "Partner Conscientiousness            -0.0412      0.013     -3.109      0.002      -0.067      -0.015\n",
      "Partner Openness                      0.0273      0.013      2.107      0.035       0.002       0.053\n",
      "Partner Neuroticism                   0.0132      0.017      0.790      0.430      -0.019       0.046\n",
      "Partner Conservatism                  0.0023      0.006      0.393      0.694      -0.009       0.014\n",
      "Anchor Depressiveness                 0.1256      0.025      5.083      0.000       0.077       0.174\n",
      "Anchor Loneliness                    -0.0593      0.032     -1.866      0.062      -0.122       0.003\n",
      "Anchor Self-esteem                   -0.0187      0.016     -1.202      0.229      -0.049       0.012\n",
      "Anchor Life Satisfaction              0.0187      0.022      0.849      0.396      -0.024       0.062\n",
      "Anchor Health                         0.0480      0.041      1.178      0.239      -0.032       0.128\n",
      "Partner Depressiveness                0.0152      0.024      0.620      0.535      -0.033       0.063\n",
      "Partner Loneliness                   -0.0320      0.033     -0.981      0.327      -0.096       0.032\n",
      "Partner Self-esteem                  -0.0342      0.016     -2.193      0.028      -0.065      -0.004\n",
      "Partner Life Satisfaction            -0.0017      0.023     -0.074      0.941      -0.047       0.044\n",
      "Partner Health                       -0.0429      0.040     -1.085      0.278      -0.120       0.035\n",
      "Relationship Length                  -0.2147      0.035     -6.223      0.000      -0.282      -0.147\n",
      "Married                              -0.1388      0.073     -1.889      0.059      -0.283       0.005\n",
      "Cohabitation                          0.6030      0.130      4.655      0.000       0.349       0.857\n",
      "Kids                                 -0.0441      0.034     -1.286      0.198      -0.111       0.023\n",
      "Anchor Communication Quality          0.1367      0.012     11.728      0.000       0.114       0.160\n",
      "Anchor Relationship Satisfaction      0.2817      0.023     12.042      0.000       0.236       0.328\n",
      "Anchor Conflict Management           -0.0131      0.011     -1.165      0.244      -0.035       0.009\n",
      "Partner Communication Quality         0.0548      0.012      4.639      0.000       0.032       0.078\n",
      "Partner Relationship Satisfaction     0.0602      0.023      2.617      0.009       0.015       0.105\n",
      "Partner Conflict Management          -0.0221      0.011     -1.953      0.051      -0.044    7.92e-05\n",
      "0/1                                   2.1658      0.692      3.128      0.002       0.809       3.523\n",
      "1/2                                   1.0771      0.042     25.589      0.000       0.995       1.160\n",
      "2/3                                   0.4953      0.027     18.563      0.000       0.443       0.548\n",
      "3/4                                   0.4475      0.024     18.801      0.000       0.401       0.494\n",
      "4/5                                   0.5861      0.030     19.694      0.000       0.528       0.644\n",
      "=====================================================================================================\n",
      "Optimization terminated successfully.\n",
      "         Current function value: 1.312401\n",
      "         Iterations: 60\n",
      "         Function evaluations: 65\n",
      "         Gradient evaluations: 65\n",
      "                             OrderedModel Results                             \n",
      "==============================================================================\n",
      "Dep. Variable:        Partner FreqCat   Log-Likelihood:                -6283.8\n",
      "Model:                   OrderedModel   AIC:                         1.265e+04\n",
      "Method:            Maximum Likelihood   BIC:                         1.293e+04\n",
      "Date:                Thu, 24 Jul 2025                                         \n",
      "Time:                        15:44:44                                         \n",
      "No. Observations:                4788                                         \n",
      "Df Residuals:                    4745                                         \n",
      "Df Model:                          38                                         \n",
      "=====================================================================================================\n",
      "                                        coef    std err          z      P>|z|      [0.025      0.975]\n",
      "-----------------------------------------------------------------------------------------------------\n",
      "Anchor Difference of Touch           -0.1528      0.036     -4.269      0.000      -0.223      -0.083\n",
      "Partner Difference of Touch          -0.9264      0.040    -23.158      0.000      -1.005      -0.848\n",
      "Anchor Age                           -0.0002      0.007     -0.023      0.982      -0.014       0.013\n",
      "Anchor Work Status                    0.0470      0.044      1.059      0.290      -0.040       0.134\n",
      "Partner Age                          -0.0119      0.006     -2.003      0.045      -0.024      -0.000\n",
      "Partner Work Status                   0.1051      0.043      2.424      0.015       0.020       0.190\n",
      "Anchor Extraversion                   0.0474      0.015      3.212      0.001       0.018       0.076\n",
      "Anchor Agreeableness                  0.0327      0.015      2.220      0.026       0.004       0.062\n",
      "Anchor Conscientiousness              0.0100      0.014      0.727      0.467      -0.017       0.037\n",
      "Anchor Openness                      -0.0062      0.013     -0.476      0.634      -0.032       0.019\n",
      "Anchor Neuroticism                    0.0255      0.017      1.509      0.131      -0.008       0.059\n",
      "Anchor Conservatism                   0.0058      0.006      0.980      0.327      -0.006       0.017\n",
      "Partner Extraversion                  0.0500      0.014      3.490      0.000       0.022       0.078\n",
      "Partner Agreeableness                 0.0663      0.015      4.524      0.000       0.038       0.095\n",
      "Partner Conscientiousness            -0.0311      0.014     -2.299      0.022      -0.058      -0.005\n",
      "Partner Openness                      0.0137      0.013      1.039      0.299      -0.012       0.040\n",
      "Partner Neuroticism                  -0.0160      0.017     -0.949      0.343      -0.049       0.017\n",
      "Partner Conservatism                 -0.0104      0.006     -1.748      0.081      -0.022       0.001\n",
      "Anchor Depressiveness                 0.0135      0.025      0.545      0.585      -0.035       0.062\n",
      "Anchor Loneliness                     0.0152      0.033      0.466      0.641      -0.049       0.079\n",
      "Anchor Self-esteem                   -0.0172      0.016     -1.090      0.276      -0.048       0.014\n",
      "Anchor Life Satisfaction             -0.0462      0.022     -2.081      0.037      -0.090      -0.003\n",
      "Anchor Health                         0.0454      0.042      1.093      0.274      -0.036       0.127\n",
      "Partner Depressiveness                0.1306      0.025      5.182      0.000       0.081       0.180\n",
      "Partner Loneliness                   -0.0448      0.034     -1.329      0.184      -0.111       0.021\n",
      "Partner Self-esteem                  -0.0291      0.016     -1.821      0.069      -0.060       0.002\n",
      "Partner Life Satisfaction             0.0344      0.024      1.459      0.145      -0.012       0.081\n",
      "Partner Health                        0.0071      0.040      0.178      0.859      -0.072       0.086\n",
      "Relationship Length                  -0.1976      0.035     -5.655      0.000      -0.266      -0.129\n",
      "Married                              -0.1888      0.075     -2.519      0.012      -0.336      -0.042\n",
      "Cohabitation                          0.4661      0.128      3.631      0.000       0.214       0.718\n",
      "Kids                                 -0.0761      0.035     -2.174      0.030      -0.145      -0.008\n",
      "Anchor Communication Quality          0.0674      0.012      5.684      0.000       0.044       0.091\n",
      "Anchor Relationship Satisfaction      0.0718      0.024      3.011      0.003       0.025       0.119\n",
      "Anchor Conflict Management           -0.0256      0.012     -2.220      0.026      -0.048      -0.003\n",
      "Partner Communication Quality         0.1380      0.012     11.199      0.000       0.114       0.162\n",
      "Partner Relationship Satisfaction     0.2610      0.024     10.688      0.000       0.213       0.309\n",
      "Partner Conflict Management           0.0023      0.012      0.199      0.842      -0.020       0.025\n",
      "0/1                                   3.0845      0.699      4.412      0.000       1.714       4.455\n",
      "1/2                                   1.2840      0.029     44.389      0.000       1.227       1.341\n",
      "2/3                                   0.4066      0.027     15.141      0.000       0.354       0.459\n",
      "3/4                                   0.4468      0.027     16.858      0.000       0.395       0.499\n",
      "4/5                                   0.7001      0.035     20.216      0.000       0.632       0.768\n",
      "=====================================================================================================\n",
      "Optimization terminated successfully.\n",
      "         Current function value: 1.384929\n",
      "         Iterations: 65\n",
      "         Function evaluations: 68\n",
      "         Gradient evaluations: 68\n",
      "                             OrderedModel Results                             \n",
      "==============================================================================\n",
      "Dep. Variable:        Partner WishCat   Log-Likelihood:                -6631.0\n",
      "Model:                   OrderedModel   AIC:                         1.335e+04\n",
      "Method:            Maximum Likelihood   BIC:                         1.363e+04\n",
      "Date:                Thu, 24 Jul 2025                                         \n",
      "Time:                        15:44:54                                         \n",
      "No. Observations:                4788                                         \n",
      "Df Residuals:                    4745                                         \n",
      "Df Model:                          38                                         \n",
      "=====================================================================================================\n",
      "                                        coef    std err          z      P>|z|      [0.025      0.975]\n",
      "-----------------------------------------------------------------------------------------------------\n",
      "Anchor Difference of Touch           -0.1763      0.035     -5.026      0.000      -0.245      -0.108\n",
      "Partner Difference of Touch           1.0371      0.039     26.708      0.000       0.961       1.113\n",
      "Anchor Age                           -0.0009      0.007     -0.128      0.898      -0.014       0.013\n",
      "Anchor Work Status                    0.0601      0.043      1.383      0.167      -0.025       0.145\n",
      "Partner Age                          -0.0108      0.006     -1.839      0.066      -0.022       0.001\n",
      "Partner Work Status                   0.1288      0.043      3.029      0.002       0.045       0.212\n",
      "Anchor Extraversion                   0.0461      0.014      3.187      0.001       0.018       0.075\n",
      "Anchor Agreeableness                  0.0292      0.014      2.014      0.044       0.001       0.058\n",
      "Anchor Conscientiousness              0.0050      0.014      0.367      0.714      -0.022       0.032\n",
      "Anchor Openness                       0.0034      0.013      0.262      0.794      -0.022       0.029\n",
      "Anchor Neuroticism                    0.0330      0.017      1.982      0.047       0.000       0.066\n",
      "Anchor Conservatism                   0.0033      0.006      0.557      0.578      -0.008       0.015\n",
      "Partner Extraversion                  0.0558      0.014      3.952      0.000       0.028       0.083\n",
      "Partner Agreeableness                 0.0637      0.014      4.417      0.000       0.035       0.092\n",
      "Partner Conscientiousness            -0.0353      0.013     -2.657      0.008      -0.061      -0.009\n",
      "Partner Openness                      0.0071      0.013      0.549      0.583      -0.018       0.032\n",
      "Partner Neuroticism                  -0.0200      0.017     -1.208      0.227      -0.053       0.012\n",
      "Partner Conservatism                 -0.0064      0.006     -1.099      0.272      -0.018       0.005\n",
      "Anchor Depressiveness                 0.0048      0.024      0.197      0.844      -0.043       0.053\n",
      "Anchor Loneliness                     0.0227      0.032      0.715      0.475      -0.040       0.085\n",
      "Anchor Self-esteem                   -0.0121      0.015     -0.781      0.435      -0.042       0.018\n",
      "Anchor Life Satisfaction             -0.0325      0.022     -1.487      0.137      -0.075       0.010\n",
      "Anchor Health                         0.0495      0.041      1.212      0.226      -0.031       0.129\n",
      "Partner Depressiveness                0.1336      0.025      5.418      0.000       0.085       0.182\n",
      "Partner Loneliness                   -0.0431      0.033     -1.311      0.190      -0.108       0.021\n",
      "Partner Self-esteem                  -0.0332      0.016     -2.117      0.034      -0.064      -0.002\n",
      "Partner Life Satisfaction             0.0364      0.023      1.564      0.118      -0.009       0.082\n",
      "Partner Health                        0.0167      0.039      0.423      0.672      -0.061       0.094\n",
      "Relationship Length                  -0.1972      0.035     -5.707      0.000      -0.265      -0.129\n",
      "Married                              -0.1859      0.074     -2.514      0.012      -0.331      -0.041\n",
      "Cohabitation                          0.3948      0.129      3.066      0.002       0.142       0.647\n",
      "Kids                                 -0.0959      0.035     -2.779      0.005      -0.164      -0.028\n",
      "Anchor Communication Quality          0.0655      0.012      5.648      0.000       0.043       0.088\n",
      "Anchor Relationship Satisfaction      0.0653      0.023      2.835      0.005       0.020       0.110\n",
      "Anchor Conflict Management           -0.0278      0.011     -2.452      0.014      -0.050      -0.006\n",
      "Partner Communication Quality         0.1315      0.012     10.949      0.000       0.108       0.155\n",
      "Partner Relationship Satisfaction     0.2645      0.024     11.183      0.000       0.218       0.311\n",
      "Partner Conflict Management           0.0067      0.011      0.585      0.558      -0.016       0.029\n",
      "0/1                                   3.3110      0.696      4.757      0.000       1.947       4.675\n",
      "1/2                                   1.1895      0.044     26.816      0.000       1.103       1.276\n",
      "2/3                                   0.4686      0.027     17.155      0.000       0.415       0.522\n",
      "3/4                                   0.4658      0.024     19.788      0.000       0.420       0.512\n",
      "4/5                                   0.6523      0.029     22.459      0.000       0.595       0.709\n",
      "=====================================================================================================\n"
     ]
    }
   ],
   "execution_count": 111
  }
 ],
 "metadata": {
  "kernelspec": {
   "display_name": "Python 3",
   "language": "python",
   "name": "python3"
  },
  "language_info": {
   "codemirror_mode": {
    "name": "ipython",
    "version": 2
   },
   "file_extension": ".py",
   "mimetype": "text/x-python",
   "name": "python",
   "nbconvert_exporter": "python",
   "pygments_lexer": "ipython2",
   "version": "2.7.6"
  }
 },
 "nbformat": 4,
 "nbformat_minor": 5
}
