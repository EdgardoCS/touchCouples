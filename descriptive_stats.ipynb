{
 "cells": [
  {
   "metadata": {},
   "cell_type": "markdown",
   "source": [
    "YlGnBu-8\n",
    "8 colors palette\n",
    "    1. #ffffd9\n",
    "    2. #edf8b1\n",
    "    3. #c7e9b4\n",
    "    4. #7fcdbb\n",
    "    5. #41b6c4\n",
    "    6. #1d91c0\n",
    "    7. #225ea8\n",
    "    8. #0c2c84\n",
    "\n",
    "Touch frequency kiss last week\n",
    "Touch frequency put arm around shoulder last week\n",
    "Touch frequency intimate hug last week\n",
    "\n",
    "How often have you and your partner touched each other in this way in the last week?\n",
    "\n",
    "From Yvonee\n",
    "\n",
    "Key predictors of higher touch frequency were\n",
    "1. higher Relationship Satisfaction\n",
    "2. more positive communication\n",
    "3. shorter relationship duration\n",
    "4. the absence of children\n",
    "5. living together\n",
    "6. younger age\n"
   ],
   "id": "273d98d050e4ff88"
  },
  {
   "metadata": {
    "ExecuteTime": {
     "end_time": "2025-10-23T08:51:35.093533Z",
     "start_time": "2025-10-23T08:51:35.087391Z"
    }
   },
   "cell_type": "code",
   "source": [
    "import warnings\n",
    "import numpy as np\n",
    "import pandas as pd\n",
    "import seaborn as sns\n",
    "import scipy.stats as stats\n",
    "import matplotlib.pyplot as plt\n",
    "from scipy.stats import spearmanr\n",
    "from statannotations.Annotator import Annotator\n",
    "\n",
    "pd.options.mode.chained_assignment = None\n",
    "warnings.filterwarnings('ignore')"
   ],
   "id": "a595510f0aaf52a7",
   "outputs": [],
   "execution_count": 55
  },
  {
   "metadata": {
    "ExecuteTime": {
     "end_time": "2025-10-23T08:51:35.148409Z",
     "start_time": "2025-10-23T08:51:35.107610Z"
    }
   },
   "cell_type": "code",
   "source": [
    "df2 = pd.read_csv('source/FReDA3.csv')\n",
    "\n",
    "df2[\"Anchor Perception of Touch\"] = \"Satisfied\"\n",
    "df2[\"Partner Perception of Touch\"] = \"Satisfied\"\n",
    "df2[\"Couple Perception of Touch\"] = \"Satisfied\"\n",
    "\n",
    "temp1 = df2[\"Anchor Divergence\"]\n",
    "df2.loc[temp1 > 0, \"Anchor Perception of Touch\"] = \"Deprived\"\n",
    "df2.loc[temp1 < 0, \"Anchor Perception of Touch\"] = \"Saturated\"\n",
    "\n",
    "temp2 = df2[\"Partner Divergence\"]\n",
    "df2.loc[temp2 > 0, \"Partner Perception of Touch\"] = \"Deprived\"\n",
    "df2.loc[temp2 < 0, \"Partner Perception of Touch\"] = \"Saturated\"\n",
    "\n",
    "temp2 = df2[\"Couple Divergence\"]\n",
    "df2.loc[temp2 > 0, \"Couple Perception of Touch\"] = \"Deprived\"\n",
    "df2.loc[temp2 < 0, \"Couple Perception of Touch\"] = \"Saturated\""
   ],
   "id": "92d5ed993985fc6a",
   "outputs": [],
   "execution_count": 56
  },
  {
   "metadata": {
    "ExecuteTime": {
     "end_time": "2025-10-23T08:51:35.160619Z",
     "start_time": "2025-10-23T08:51:35.148409Z"
    }
   },
   "cell_type": "code",
   "source": "df2['Couple Perception of Touch'].value_counts()",
   "id": "16bae78586521c10",
   "outputs": [
    {
     "data": {
      "text/plain": [
       "Couple Perception of Touch\n",
       "Deprived     4339\n",
       "Satisfied    1965\n",
       "Saturated     496\n",
       "Name: count, dtype: int64"
      ]
     },
     "execution_count": 57,
     "metadata": {},
     "output_type": "execute_result"
    }
   ],
   "execution_count": 57
  },
  {
   "metadata": {
    "ExecuteTime": {
     "end_time": "2025-10-23T08:51:35.235187Z",
     "start_time": "2025-10-23T08:51:35.187439Z"
    }
   },
   "cell_type": "code",
   "source": [
    "df2['Anchor Perception of Touch'] = pd.Categorical(df2['Anchor Perception of Touch'],\n",
    "                                                   categories=['Deprived', 'Satisfied', 'Saturated'], ordered=True)\n",
    "df2['Partner Perception of Touch'] = pd.Categorical(df2['Partner Perception of Touch'],\n",
    "                                                    categories=['Deprived', 'Satisfied', 'Saturated'], ordered=True)\n",
    "\n",
    "crosstab = pd.crosstab(df2['Anchor Perception of Touch'], df2['Partner Perception of Touch'])\n",
    "\n",
    "greys_high_contrast = sns.color_palette(\"Greys\", as_cmap=True)\n",
    "sns.heatmap(\n",
    "    data=crosstab,\n",
    "    annot=True,\n",
    "    cmap=greys_high_contrast,\n",
    "    fmt='d',\n",
    "    cbar=False,\n",
    "    annot_kws={\"fontsize\": 16},\n",
    "    linewidths=0.5,\n",
    "    linecolor='black',\n",
    ")\n",
    "\n",
    "plt.xlabel(\"Satisfaction of Touch\")\n",
    "plt.ylabel(\"Satisfaction of Touch\")\n",
    "plt.tight_layout()\n",
    "# plt.savefig(\"output/img_bg/correlation/perception of touch.png\", dpi=350, transparent=False, bbox_inches='tight')\n",
    "plt.show()"
   ],
   "id": "5fa121b4c40c890",
   "outputs": [
    {
     "data": {
      "text/plain": [
       "<Figure size 640x480 with 1 Axes>"
      ],
      "image/png": "[encoded data removed]"
     },
     "metadata": {},
     "output_type": "display_data",
     "jetTransient": {
      "display_id": null
     }
    }
   ],
   "execution_count": 58
  },
  {
   "metadata": {},
   "cell_type": "markdown",
   "source": "CORRELATION MAPS",
   "id": "9dc6057f0f519b86"
  },
  {
   "metadata": {
    "ExecuteTime": {
     "end_time": "2025-10-23T08:51:35.269765Z",
     "start_time": "2025-10-23T08:51:35.261514Z"
    }
   },
   "cell_type": "code",
   "source": [
    "ct = pd.crosstab(df2['Anchor Perception of Touch'], df2['Partner Perception of Touch'])\n",
    "ct"
   ],
   "id": "263606a06f55b755",
   "outputs": [
    {
     "data": {
      "text/plain": [
       "Partner Perception of Touch  Deprived  Satisfied  Saturated\n",
       "Anchor Perception of Touch                                 \n",
       "Deprived                         1701       1042        146\n",
       "Satisfied                        1428       1921        191\n",
       "Saturated                         184        142         45"
      ],
      "text/html": [
       "<div>\n",
       "<style scoped>\n",
       "    .dataframe tbody tr th:only-of-type {\n",
       "        vertical-align: middle;\n",
       "    }\n",
       "\n",
       "    .dataframe tbody tr th {\n",
       "        vertical-align: top;\n",
       "    }\n",
       "\n",
       "    .dataframe thead th {\n",
       "        text-align: right;\n",
       "    }\n",
       "</style>\n",
       "<table border=\"1\" class=\"dataframe\">\n",
       "  <thead>\n",
       "    <tr style=\"text-align: right;\">\n",
       "      <th>Partner Perception of Touch</th>\n",
       "      <th>Deprived</th>\n",
       "      <th>Satisfied</th>\n",
       "      <th>Saturated</th>\n",
       "    </tr>\n",
       "    <tr>\n",
       "      <th>Anchor Perception of Touch</th>\n",
       "      <th></th>\n",
       "      <th></th>\n",
       "      <th></th>\n",
       "    </tr>\n",
       "  </thead>\n",
       "  <tbody>\n",
       "    <tr>\n",
       "      <th>Deprived</th>\n",
       "      <td>1701</td>\n",
       "      <td>1042</td>\n",
       "      <td>146</td>\n",
       "    </tr>\n",
       "    <tr>\n",
       "      <th>Satisfied</th>\n",
       "      <td>1428</td>\n",
       "      <td>1921</td>\n",
       "      <td>191</td>\n",
       "    </tr>\n",
       "    <tr>\n",
       "      <th>Saturated</th>\n",
       "      <td>184</td>\n",
       "      <td>142</td>\n",
       "      <td>45</td>\n",
       "    </tr>\n",
       "  </tbody>\n",
       "</table>\n",
       "</div>"
      ]
     },
     "execution_count": 59,
     "metadata": {},
     "output_type": "execute_result"
    }
   ],
   "execution_count": 59
  },
  {
   "metadata": {
    "ExecuteTime": {
     "end_time": "2025-10-23T08:51:35.391230Z",
     "start_time": "2025-10-23T08:51:35.317294Z"
    }
   },
   "cell_type": "code",
   "source": [
    "sns.set_theme(style='white')\n",
    "df_melted = df2.melt(value_vars=['Anchor Perception of Touch', 'Partner Perception of Touch'],\n",
    "                     var_name='Source', value_name='Value')\n",
    "\n",
    "sns.histplot(data=df_melted, x='Value', hue='Source',\n",
    "             element='bars',\n",
    "             binwidth=0.5,\n",
    "             palette=['#225ea8', '#1d91c0'],\n",
    "             common_norm=False,\n",
    "             multiple=\"dodge\",\n",
    "             linewidth=1,\n",
    "             edgecolor='black',\n",
    "             )\n",
    "plt.grid(False)\n",
    "plt.legend(loc='upper right', labels=[\"Anchor\", \"Partner\"])\n",
    "plt.xlabel(\"Touch Perception\")\n",
    "plt.ylabel(\"Subjects\")\n",
    "#plt.savefig('output/img_bg/perception_histogram.png', dpi=350, transparent=False, bbox_inches='tight')"
   ],
   "id": "1d2911a3688dd48c",
   "outputs": [
    {
     "data": {
      "text/plain": [
       "Text(0, 0.5, 'Subjects')"
      ]
     },
     "execution_count": 60,
     "metadata": {},
     "output_type": "execute_result"
    },
    {
     "data": {
      "text/plain": [
       "<Figure size 640x480 with 1 Axes>"
      ],
      "image/png": "[encoded data removed]"
     },
     "metadata": {},
     "output_type": "display_data",
     "jetTransient": {
      "display_id": null
     }
    }
   ],
   "execution_count": 60
  },
  {
   "metadata": {
    "ExecuteTime": {
     "end_time": "2025-10-23T08:52:22.370588Z",
     "start_time": "2025-10-23T08:52:22.367636Z"
    }
   },
   "cell_type": "code",
   "source": [
    "touch_factors = [\n",
    "    # 'Anchor Frequency of Touch',\n",
    "    # 'Anchor Wish for Touch',\n",
    "    # 'Partner Frequency of Touch',\n",
    "    # 'Partner Wish for Touch',\n",
    "    'Couple Frequency of Touch',\n",
    "    'Couple Wish for Touch'\n",
    "]\n",
    "\n",
    "relationship_touch_factors = [\n",
    "    # 'Anchor Divergence',\n",
    "    # 'Partner Divergence',\n",
    "    'Couple Divergence'\n",
    "]\n",
    "\n",
    "individual_factors = [\n",
    "    'Anchor Sex',\n",
    "    'Anchor Age',\n",
    "    'Anchor Work Status',\n",
    "    'Anchor East',\n",
    "    'Anchor Urbanization',\n",
    "\n",
    "    'Partner Sex',\n",
    "    'Partner Age',\n",
    "    'Partner Work Status',\n",
    "    'Partner East',\n",
    "    'Partner Urbanization'\n",
    "]\n",
    "\n",
    "personality_factors = [\n",
    "    'Anchor Extraversion',\n",
    "    'Anchor Agreeableness',\n",
    "    'Anchor Conscientiousness',\n",
    "    'Anchor Openness',\n",
    "    'Anchor Neuroticism',\n",
    "    'Anchor Conservatism',\n",
    "    'Anchor Religiosity',\n",
    "\n",
    "    'Partner Extraversion',\n",
    "    'Partner Agreeableness',\n",
    "    'Partner Conscientiousness',\n",
    "    'Partner Openness',\n",
    "    'Partner Neuroticism',\n",
    "    'Partner Conservatism',\n",
    "    'Partner Religiosity',\n",
    "]\n",
    "\n",
    "wellbeing_factors = [\n",
    "    'Anchor Depressiveness',\n",
    "    'Anchor Loneliness',\n",
    "    'Anchor Self-esteem',\n",
    "    'Anchor Life Satisfaction',\n",
    "    'Anchor Health',\n",
    "\n",
    "    'Partner Depressiveness',\n",
    "    'Partner Loneliness',\n",
    "    'Partner Self-esteem',\n",
    "    'Partner Life Satisfaction',\n",
    "    'Partner Health',\n",
    "]\n",
    "\n",
    "relationship_factors = [\n",
    "    'Relationship Sex',\n",
    "    'Relationship Length',\n",
    "    'Age difference',\n",
    "    'Married',\n",
    "    'Cohabitation',\n",
    "    'Kids',\n",
    "    'Kid Age',\n",
    "\n",
    "    'Anchor Communication Quality',\n",
    "    'Anchor Relationship Satisfaction',\n",
    "    'Anchor Conflict Management',\n",
    "\n",
    "    'Partner Communication Quality',\n",
    "    'Partner Relationship Satisfaction',\n",
    "    'Partner Conflict Management',\n",
    "]"
   ],
   "id": "b85cee538aaa28da",
   "outputs": [],
   "execution_count": 66
  },
  {
   "metadata": {
    "ExecuteTime": {
     "end_time": "2025-10-23T08:52:24.940507Z",
     "start_time": "2025-10-23T08:52:22.384626Z"
    }
   },
   "cell_type": "code",
   "source": [
    "cols = touch_factors + relationship_touch_factors + individual_factors + personality_factors + wellbeing_factors + relationship_factors\n",
    "\n",
    "# Initialize matrices for correlation and p-values\n",
    "corr_matrix = pd.DataFrame(np.zeros((len(cols), len(cols))), columns=cols, index=cols)\n",
    "pval_matrix = pd.DataFrame(np.ones((len(cols), len(cols))), columns=cols, index=cols)\n",
    "\n",
    "# Fill in the matrices\n",
    "for i in range(len(cols)):\n",
    "    for j in range(i, len(cols)):\n",
    "        col1 = cols[i]\n",
    "        col2 = cols[j]\n",
    "        r, p = spearmanr(df2[col1], df2[col2], nan_policy='omit')\n",
    "        corr_matrix.loc[col1, col2] = r\n",
    "        corr_matrix.loc[col2, col1] = r\n",
    "        pval_matrix.loc[col1, col2] = p\n",
    "        pval_matrix.loc[col2, col1] = p"
   ],
   "id": "9bd5898560281f15",
   "outputs": [],
   "execution_count": 67
  }
 ],
 "metadata": {
  "kernelspec": {
   "display_name": "Python 3",
   "language": "python",
   "name": "python3"
  },
  "language_info": {
   "codemirror_mode": {
    "name": "ipython",
    "version": 2
   },
   "file_extension": ".py",
   "mimetype": "text/x-python",
   "name": "python",
   "nbconvert_exporter": "python",
   "pygments_lexer": "ipython2",
   "version": "2.7.6"
  }
 },
 "nbformat": 4,
 "nbformat_minor": 5
}
