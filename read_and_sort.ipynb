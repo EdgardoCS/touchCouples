{
 "cells": [
  {
   "cell_type": "code",
   "id": "initial_id",
   "metadata": {
    "ExecuteTime": {
     "end_time": "2025-10-07T13:22:21.715712Z",
     "start_time": "2025-10-07T13:22:21.528392Z"
    }
   },
   "source": [
    "import warnings\n",
    "import numpy as np\n",
    "import pandas as pd\n",
    "import seaborn as sns\n",
    "import scipy.stats as stats\n",
    "import matplotlib.pyplot as plt\n",
    "from scipy.stats import spearmanr\n",
    "from statannotations.Annotator import Annotator\n",
    "from xarray.ufuncs import angle\n",
    "\n",
    "pd.options.mode.chained_assignment = None\n",
    "warnings.filterwarnings('ignore')"
   ],
   "outputs": [],
   "execution_count": 138
  },
  {
   "metadata": {
    "ExecuteTime": {
     "end_time": "2025-10-07T13:22:21.770821Z",
     "start_time": "2025-10-07T13:22:21.728853Z"
    }
   },
   "cell_type": "code",
   "source": [
    "# Read data (output from FReDA_Touch_genVariables_final.do)\n",
    "df = pd.read_csv('source/FReDA.csv')"
   ],
   "id": "d88c3093ef1c6573",
   "outputs": [],
   "execution_count": 139
  },
  {
   "metadata": {
    "ExecuteTime": {
     "end_time": "2025-10-07T13:22:21.779943Z",
     "start_time": "2025-10-07T13:22:21.776515Z"
    }
   },
   "cell_type": "code",
   "source": [
    "# Add index \"Id\"\n",
    "df['Id'] = np.arange(1, df.shape[0] + 1)\n",
    "df.insert(0, 'Id', df.pop('Id'))"
   ],
   "id": "17c0d74e890a4ff1",
   "outputs": [],
   "execution_count": 140
  },
  {
   "metadata": {
    "ExecuteTime": {
     "end_time": "2025-10-07T13:22:21.788118Z",
     "start_time": "2025-10-07T13:22:21.784128Z"
    }
   },
   "cell_type": "code",
   "source": [
    "# Variables to map columns\n",
    "# New values could be assigned as 'in-between' values to ease plotting and calculations\n",
    "overall_options = {\n",
    "    'index_options': {\n",
    "        '0x': 0,\n",
    "        '1-5x': 1,\n",
    "        '6-10x': 2,\n",
    "        '11-20x': 3,\n",
    "        '21-50x': 4,\n",
    "        '> 50x': 5\n",
    "    },\n",
    "    'sex_options': {\n",
    "        'Male': 0,\n",
    "        'Female': 1,\n",
    "    },\n",
    "    'omo_options': {\n",
    "        'Not at all': 0,\n",
    "        '1 to 5 times': 1,\n",
    "        '6 to 10 times': 2,\n",
    "        '11 to 20 times': 3,\n",
    "        '21 to 50 times': 4,\n",
    "        'More than 50 times': 5\n",
    "    },\n",
    "    'satisfaction_options': {\n",
    "        '0 - Not at all satisfied': 0,\n",
    "        '1': 2,\n",
    "        '2': 2,\n",
    "        '3': 4,\n",
    "        '4': 4,\n",
    "        '5': 6,\n",
    "        '6': 6,\n",
    "        '7': 8,\n",
    "        '8': 8,\n",
    "        '9': 10,\n",
    "        '10 - Completely satisfied': 10\n",
    "    },\n",
    "    'duration_options': {\n",
    "        '0-2': 1,\n",
    "        '3-5': 2,\n",
    "        '6-10': 3,\n",
    "        '11-20': 4,\n",
    "        '21+': 5,\n",
    "    },\n",
    "    'kids_options': {\n",
    "        '0': 0,\n",
    "        '1': 1,\n",
    "        '2': 2,\n",
    "        '3+': 3,\n",
    "    },\n",
    "    'Loneliness_options': {\n",
    "        '1 - Not at all': 1,\n",
    "        '2': 2,\n",
    "        '3': 3,\n",
    "        '4': 4,\n",
    "        '5 - Absolutely': 5\n",
    "    },\n",
    "    'cohabitation-options': {\n",
    "        'Separate households': 0,\n",
    "        'Cohabiting': 1,\n",
    "    },\n",
    "    'work-options': {\n",
    "        'Home': 0,\n",
    "        'Part-time activity': 1,\n",
    "        'Full time activity': 2,\n",
    "    },\n",
    "    'rel_sex-options': {\n",
    "        'Different sex': 0,\n",
    "        'Same sex': 1\n",
    "    },\n",
    "    'germany-options': {\n",
    "        'East Germany': 0,\n",
    "        'West Germany': 1,\n",
    "    },\n",
    "    'urbanization-options': {\n",
    "        'Rural area': 0,\n",
    "        'Town or suburb': 1,\n",
    "        'City': 2,\n",
    "    },\n",
    "    'married-options': {\n",
    "        'Not married': 0,\n",
    "        'Married': 1,\n",
    "    },\n",
    "    'age_diff_options': {\n",
    "        '> 10y. older partner': 3,\n",
    "        '> 10y. younger partner': -3,\n",
    "        '2-5y. older partner': 2,\n",
    "        '2-5y. younger partner': -2,\n",
    "        '6-10y. older partner': 1,\n",
    "        '6-10y. younger partner': -1,\n",
    "        'Same age': 0\n",
    "    },\n",
    "    'kid_age_options': {\n",
    "        \"0-1\": 1,\n",
    "        \"2-5\": 2,\n",
    "        \"6-13\": 3,\n",
    "        \"14-17\": 4,\n",
    "        \"18+\": 5\n",
    "    }\n",
    "}"
   ],
   "id": "a783ead3d729b97a",
   "outputs": [],
   "execution_count": 141
  },
  {
   "metadata": {
    "ExecuteTime": {
     "end_time": "2025-10-07T13:22:21.804158Z",
     "start_time": "2025-10-07T13:22:21.792912Z"
    }
   },
   "cell_type": "code",
   "source": [
    "# Change column names\n",
    "col_names = {\n",
    "    # TOUCH-RELATED\n",
    "    'omo15i1_w2b': 'Anchor Kiss Frequency',\n",
    "    'omo15i2_w2b': 'Anchor Kiss Wish',\n",
    "    'pomo15i1_w2b': 'Partner Kiss Frequency',\n",
    "    'pomo15i2_w2b': 'Partner Kiss Wish',\n",
    "    'omo16i1_w2b': 'Anchor Hold Frequency',\n",
    "    'omo16i2_w2b': 'Anchor Hold Wish',\n",
    "    'pomo16i1_w2b': 'Partner Hold Frequency',\n",
    "    'pomo16i2_w2b': 'Partner Hold Wish',\n",
    "    'omo17i1_w2b': 'Anchor Hug Frequency',\n",
    "    'omo17i2_w2b': 'Anchor Hug Wish',\n",
    "    'pomo17i1_w2b': 'Partner Hug Frequency',\n",
    "    'pomo17i2_w2b': 'Partner Hug Wish',\n",
    "\n",
    "    # SOCIODEMOGRAPHICS\n",
    "    'sex': 'Anchor Sex',  # Female, Male, Diverse\n",
    "    'psex': 'Partner Sex',  # Female, Male, Diverse\n",
    "    'age': 'Anchor Age',  # int\n",
    "    'page': 'Partner Age',  # int\n",
    "    'workst': 'Anchor Work Status',  # Full-time activity, Part-time activity, Home\n",
    "    'pworkst': 'Partner Work Status',  # Full-time activity, Part-time activity, Home\n",
    "    'east': 'Anchor East',  # East, West\n",
    "    'peast': 'Partner East',  # East, West\n",
    "    'degurba': 'Anchor Urbanization',\n",
    "    'pdegurba': 'Partner Urbanization',\n",
    "\n",
    "    #PERSONALITY\n",
    "    'extr': 'Anchor Extraversion',\n",
    "    'pextr': 'Partner Extraversion',\n",
    "    'agree': 'Anchor Agreeableness',\n",
    "    'pagree': 'Partner Agreeableness',\n",
    "    'consc': 'Anchor Conscientiousness',\n",
    "    'pconsc': 'Partner Conscientiousness',\n",
    "    'open': 'Anchor Openness',\n",
    "    'popen': 'Partner Openness',\n",
    "    'neur': 'Anchor Neuroticism',\n",
    "    'pneur': 'Partner Neuroticism',\n",
    "    'consv': 'Anchor Conservatism',\n",
    "    'pconsv': 'Partner Conservatism',\n",
    "    'god': 'Anchor Religiosity',\n",
    "    'pgod': 'Partner Religiosity',\n",
    "\n",
    "    #WELLBEING\n",
    "    'depr': 'Anchor Depressiveness',\n",
    "    'pdepr': 'Partner Depressiveness',\n",
    "    'loneliness': 'Anchor Loneliness',\n",
    "    'ploneliness': 'Partner Loneliness',\n",
    "    'self': 'Anchor Self-esteem',\n",
    "    'pself': 'Partner Self-esteem',\n",
    "    'lifsat': 'Anchor Life Satisfaction',\n",
    "    'plifsat': 'Partner Life Satisfaction',\n",
    "    'health': 'Anchor Health',\n",
    "    'phealth': 'Partner Health',\n",
    "\n",
    "    #RELATIONSHIP\n",
    "    'samesex': 'Relationship Sex',\n",
    "    'reldur_class': 'Relationship Length',\n",
    "    'ykage_class_w2b': 'Kid Age',\n",
    "    'married': 'Married',\n",
    "    'cohab': 'Cohabitation',\n",
    "    'nkidsliv_class': 'Kids',\n",
    "    'relint': 'Anchor Communication Quality',\n",
    "    'prelint': 'Partner Communication Quality',\n",
    "    'relsat': 'Anchor Relationship Satisfaction',\n",
    "    'prelsat': 'Partner Relationship Satisfaction',\n",
    "    'confm': 'Anchor Conflict Management',\n",
    "    'pconfm': 'Partner Conflict Management',\n",
    "    'agediff_class': 'Age difference',\n",
    "}\n",
    "\n",
    "# Rename columns to ease understanding\n",
    "df = df.rename(\n",
    "    columns=col_names\n",
    ")"
   ],
   "id": "21bbd54a2f434cfd",
   "outputs": [],
   "execution_count": 142
  },
  {
   "metadata": {
    "ExecuteTime": {
     "end_time": "2025-10-07T13:22:21.816479Z",
     "start_time": "2025-10-07T13:22:21.808561Z"
    }
   },
   "cell_type": "code",
   "source": [
    "# Drop unused columns\n",
    "df = df.drop([\n",
    "    'reldur', 'tf_kiss', 'ptf_kiss', 'tf_hold', 'tf_hug', 'ptf_kiss', 'ptf_hold', 'ptf_hug'], axis=1).reset_index(\n",
    "    drop=True)"
   ],
   "id": "dccdbe94bce0d25c",
   "outputs": [],
   "execution_count": 143
  },
  {
   "metadata": {
    "ExecuteTime": {
     "end_time": "2025-10-07T13:22:21.840427Z",
     "start_time": "2025-10-07T13:22:21.820599Z"
    }
   },
   "cell_type": "code",
   "source": [
    "# Dummy code varibles\n",
    "df['Anchor Relationship Satisfaction'] = df['Anchor Relationship Satisfaction'].map(\n",
    "    overall_options[\"satisfaction_options\"])\n",
    "df['Partner Relationship Satisfaction'] = df['Partner Relationship Satisfaction'].map(\n",
    "    overall_options[\"satisfaction_options\"])\n",
    "df['Anchor Life Satisfaction'] = df['Anchor Life Satisfaction'].map(overall_options[\"satisfaction_options\"])\n",
    "df['Partner Life Satisfaction'] = df['Partner Life Satisfaction'].map(overall_options[\"satisfaction_options\"])\n",
    "\n",
    "df['Anchor Sex'] = df['Anchor Sex'].map(overall_options[\"sex_options\"])\n",
    "df['Anchor Kiss Frequency'] = df['Anchor Kiss Frequency'].map(overall_options[\"omo_options\"])\n",
    "df['Anchor Hold Frequency'] = df['Anchor Hold Frequency'].map(overall_options[\"omo_options\"])\n",
    "df['Anchor Hug Frequency'] = df['Anchor Hug Frequency'].map(overall_options[\"omo_options\"])\n",
    "df['Anchor Kiss Wish'] = df['Anchor Kiss Wish'].map(overall_options[\"omo_options\"])\n",
    "df['Anchor Hold Wish'] = df['Anchor Hold Wish'].map(overall_options[\"omo_options\"])\n",
    "df['Anchor Hug Wish'] = df['Anchor Hug Wish'].map(overall_options[\"omo_options\"])\n",
    "\n",
    "df['Partner Sex'] = df['Partner Sex'].map(overall_options[\"sex_options\"])\n",
    "df['Partner Kiss Frequency'] = df['Partner Kiss Frequency'].map(overall_options[\"omo_options\"])\n",
    "df['Partner Hold Frequency'] = df['Partner Hold Frequency'].map(overall_options[\"omo_options\"])\n",
    "df['Partner Hug Frequency'] = df['Partner Hug Frequency'].map(overall_options[\"omo_options\"])\n",
    "df['Partner Kiss Wish'] = df['Partner Kiss Wish'].map(overall_options[\"omo_options\"])\n",
    "df['Partner Hold Wish'] = df['Partner Hold Wish'].map(overall_options[\"omo_options\"])\n",
    "df['Partner Hug Wish'] = df['Partner Hug Wish'].map(overall_options[\"omo_options\"])\n",
    "\n",
    "df['Relationship Length'] = df['Relationship Length'].map(overall_options[\"duration_options\"])\n",
    "df['Kids'] = df['Kids'].map(overall_options['kids_options'])\n",
    "\n",
    "df['Anchor Loneliness'] = df['Anchor Loneliness'].map(overall_options['Loneliness_options'])\n",
    "df['Partner Loneliness'] = df['Partner Loneliness'].map(overall_options['Loneliness_options'])\n",
    "\n",
    "df['Cohabitation'] = df['Cohabitation'].map(overall_options['cohabitation-options'])\n",
    "\n",
    "df['Anchor Work Status'] = df['Anchor Work Status'].map(overall_options['work-options'])\n",
    "df['Partner Work Status'] = df['Partner Work Status'].map(overall_options['work-options'])\n",
    "\n",
    "df['Anchor East'] = df['Anchor East'].map(overall_options['germany-options'])\n",
    "df['Partner East'] = df['Partner East'].map(overall_options['germany-options'])\n",
    "\n",
    "df['Anchor Urbanization'] = df['Anchor Urbanization'].map(overall_options['urbanization-options'])\n",
    "df['Partner Urbanization'] = df['Partner Urbanization'].map(overall_options['urbanization-options'])\n",
    "\n",
    "df['Married'] = df['Married'].map(overall_options['married-options'])\n",
    "\n",
    "df['Relationship Sex'] = df['Relationship Sex'].map(overall_options['rel_sex-options'])\n",
    "\n",
    "df['Age difference'] = df['Age difference'].map(overall_options['age_diff_options'])\n",
    "\n",
    "df['Kid Age'] = df['Kid Age'].map(overall_options['kid_age_options']).fillna(0)"
   ],
   "id": "edf8b900c868a3a3",
   "outputs": [],
   "execution_count": 144
  },
  {
   "metadata": {
    "ExecuteTime": {
     "end_time": "2025-10-07T13:22:21.855112Z",
     "start_time": "2025-10-07T13:22:21.844244Z"
    }
   },
   "cell_type": "code",
   "source": [
    "# Remove nan in touch variables (since they are our target)\n",
    "col_names = [\n",
    "    'Anchor Kiss Frequency',\n",
    "    'Anchor Kiss Wish',\n",
    "    'Partner Kiss Frequency',\n",
    "    'Partner Kiss Wish',\n",
    "    'Anchor Hold Frequency',\n",
    "    'Anchor Hold Wish',\n",
    "    'Partner Hold Frequency',\n",
    "    'Partner Hold Wish',\n",
    "    'Anchor Hug Frequency',\n",
    "    'Anchor Hug Wish',\n",
    "    'Partner Hug Frequency',\n",
    "    'Partner Hug Wish',\n",
    "]\n",
    "df = df.dropna(subset=col_names).reset_index(drop=True)"
   ],
   "id": "173f82f7e7e5833b",
   "outputs": [],
   "execution_count": 145
  },
  {
   "metadata": {
    "ExecuteTime": {
     "end_time": "2025-10-07T13:22:21.869155Z",
     "start_time": "2025-10-07T13:22:21.859403Z"
    }
   },
   "cell_type": "code",
   "source": [
    "# Calculate mean Frequency\n",
    "df['Anchor Frequency of Touch'] = (df[['Anchor Kiss Frequency', 'Anchor Hold Frequency', 'Anchor Hug Frequency']].\n",
    "                                   mean(axis=1))\n",
    "df['Partner Frequency of Touch'] = (df[['Partner Kiss Frequency', 'Partner Hold Frequency', 'Partner Hug Frequency']].\n",
    "                                    mean(axis=1))\n",
    "df['Couple Frequency of Touch'] = (df[['Anchor Frequency of Touch', 'Partner Frequency of Touch']].\n",
    "                                   mean(axis=1))\n",
    "\n",
    "# Calculate mean Wish\n",
    "df['Anchor Wish for Touch'] = (df[['Anchor Kiss Wish', 'Anchor Hold Wish', 'Anchor Hug Wish']].\n",
    "                               mean(axis=1))\n",
    "df['Partner Wish for Touch'] = (df[['Partner Kiss Wish', 'Partner Hold Wish', 'Partner Hug Wish']].\n",
    "                                mean(axis=1))\n",
    "df['Couple Wish for Touch'] = (df[['Anchor Wish for Touch', 'Partner Wish for Touch']].\n",
    "                               mean(axis=1))\n",
    "\n",
    "# Calculate individual differences\n",
    "df['Anchor Kiss Difference'] = df['Anchor Kiss Wish'] - df['Anchor Kiss Frequency']\n",
    "df['Anchor Hold Difference'] = df['Anchor Hold Wish'] - df['Anchor Hold Frequency']\n",
    "df['Anchor Hug Difference'] = df['Anchor Hug Wish'] - df['Anchor Hug Frequency']\n",
    "\n",
    "df['Partner Kiss Difference'] = df['Partner Kiss Wish'] - df['Partner Kiss Frequency']\n",
    "df['Partner Hold Difference'] = df['Partner Hold Wish'] - df['Partner Hold Frequency']\n",
    "df['Partner Hug Difference'] = df['Partner Hug Wish'] - df['Partner Hug Frequency']"
   ],
   "id": "9d07095a1fff8d2d",
   "outputs": [],
   "execution_count": 146
  },
  {
   "metadata": {
    "ExecuteTime": {
     "end_time": "2025-10-07T13:22:21.881912Z",
     "start_time": "2025-10-07T13:22:21.871664Z"
    }
   },
   "cell_type": "code",
   "source": [
    "# make sure data is correct\n",
    "df = df[(df['Anchor Age'] != -7) & (df['Partner Age'] != -7)].reset_index(drop=True)"
   ],
   "id": "bf5ef0173b3ece6f",
   "outputs": [],
   "execution_count": 147
  },
  {
   "metadata": {
    "ExecuteTime": {
     "end_time": "2025-10-07T13:22:21.888153Z",
     "start_time": "2025-10-07T13:22:21.884440Z"
    }
   },
   "cell_type": "code",
   "source": [
    "# Optional, drop every NaN\n",
    "# df.dropna()"
   ],
   "id": "fad03558a98e168f",
   "outputs": [],
   "execution_count": 148
  },
  {
   "metadata": {
    "ExecuteTime": {
     "end_time": "2025-10-07T13:22:21.898645Z",
     "start_time": "2025-10-07T13:22:21.893541Z"
    }
   },
   "cell_type": "code",
   "source": [
    "df['Anchor Divergence'] = df['Anchor Wish for Touch'] - df['Anchor Frequency of Touch']\n",
    "df['Partner Divergence'] = df['Partner Wish for Touch'] - df['Partner Frequency of Touch']\n",
    "df['Couple Divergence'] = df['Couple Wish for Touch'] - df['Couple Frequency of Touch']"
   ],
   "id": "944e4fc87970b90a",
   "outputs": [],
   "execution_count": 149
  },
  {
   "metadata": {
    "ExecuteTime": {
     "end_time": "2025-10-07T13:22:21.910151Z",
     "start_time": "2025-10-07T13:22:21.907156Z"
    }
   },
   "cell_type": "code",
   "source": [
    "# for i in range(0, len(df)):\n",
    "#     if df['Anchor Divergence'][i] == 0 and df['Partner Divergence'][i] == 0:\n",
    "#         if 0 < df['Anchor Frequency of Touch'][i] <= 2.5:\n",
    "#             df.loc[i, 'SubGroup'] = 'Low-Frequency Agreement'\n",
    "#         elif 2.5 < df['Anchor Frequency of Touch'][i] <= 5:\n",
    "#             df.loc[i, 'SubGroup'] = 'High-Frequency Agreement'\n",
    "#         elif df['Anchor Frequency of Touch'][i] == 0:\n",
    "#             df.loc[i, 'SubGroup'] = 'Non-Touch Agreement'\n",
    "#     elif df['Anchor Divergence'][i] > 0 and df['Partner Divergence'][i] > 0:\n",
    "#         df.loc[i, 'SubGroup'] = 'Deprivation Agreement'\n",
    "#     elif (df['Anchor Divergence'][i] < 0\n",
    "#           and df['Partner Divergence'][i] < 0):\n",
    "#         df.loc[i, 'SubGroup'] = 'Saturation Agreement'\n",
    "#     else:\n",
    "#         df.loc[i, 'SubGroup'] = 'Disagreement'"
   ],
   "id": "8ba05cc862c7fcdf",
   "outputs": [],
   "execution_count": 150
  },
  {
   "metadata": {
    "ExecuteTime": {
     "end_time": "2025-10-07T13:22:21.923118Z",
     "start_time": "2025-10-07T13:22:21.916156Z"
    }
   },
   "cell_type": "code",
   "source": [
    "condition1 = (\n",
    "        (df['Anchor Divergence'] == 0) & (df['Partner Divergence'] == 0)\n",
    ")\n",
    "\n",
    "condition2 = (\n",
    "        (df['Anchor Divergence'] > 0) & (df['Partner Divergence'] == 0) |\n",
    "        (df['Anchor Divergence'] == 0) & (df['Partner Divergence'] > 0)\n",
    ")\n",
    "\n",
    "condition3 = (\n",
    "        (df['Anchor Divergence'] < 0) & (df['Partner Divergence'] == 0) |\n",
    "        (df['Anchor Divergence'] == 0) & (df['Partner Divergence'] < 0)\n",
    ")\n",
    "\n",
    "condition4 = (\n",
    "        (df['Anchor Divergence'] > 0) & (df['Partner Divergence'] > 0)\n",
    ")\n",
    "\n",
    "condition5 = (\n",
    "        (df['Anchor Divergence'] < 0) & (df['Partner Divergence'] < 0)\n",
    ")\n",
    "\n",
    "condition6 = (\n",
    "        (df['Anchor Divergence'] > 0) & (df['Partner Divergence'] < 0) |\n",
    "        (df['Anchor Divergence'] < 0) & (df['Partner Divergence'] > 0)\n",
    ")\n",
    "\n",
    "df.loc[condition1, 'SubGroup'] = 'Couple Agreement'\n",
    "df.loc[condition2, 'SubGroup'] = 'One-sided Deprivation'\n",
    "df.loc[condition3, 'SubGroup'] = 'One-sided Saturation'\n",
    "df.loc[condition4, 'SubGroup'] = 'Couple Deprivation'\n",
    "df.loc[condition5, 'SubGroup'] = 'Couple Saturation'\n",
    "df.loc[condition6, 'SubGroup'] = 'Couple Disagreement'"
   ],
   "id": "fef769cfa7cdfbf5",
   "outputs": [],
   "execution_count": 151
  },
  {
   "metadata": {
    "ExecuteTime": {
     "end_time": "2025-10-07T13:22:21.937124Z",
     "start_time": "2025-10-07T13:22:21.931125Z"
    }
   },
   "cell_type": "code",
   "source": [
    "# 1- How many (%) are in Agreement with touch\n",
    "df.groupby(by=[\"SubGroup\"]).count()[\"Id\"] / len(df) * 100"
   ],
   "id": "7fc96fd4a8e38f3e",
   "outputs": [
    {
     "data": {
      "text/plain": [
       "SubGroup\n",
       "Couple Agreement         28.250000\n",
       "Couple Deprivation       25.014706\n",
       "Couple Disagreement       4.852941\n",
       "Couple Saturation         0.661765\n",
       "One-sided Deprivation    36.323529\n",
       "One-sided Saturation      4.897059\n",
       "Name: Id, dtype: float64"
      ]
     },
     "execution_count": 152,
     "metadata": {},
     "output_type": "execute_result"
    }
   ],
   "execution_count": 152
  },
  {
   "metadata": {
    "ExecuteTime": {
     "end_time": "2025-10-07T13:22:22.092612Z",
     "start_time": "2025-10-07T13:22:21.962505Z"
    }
   },
   "cell_type": "code",
   "source": "df.to_csv('source/FReDA3.csv', index=False)",
   "id": "a31809040ac55749",
   "outputs": [],
   "execution_count": 153
  }
 ],
 "metadata": {
  "kernelspec": {
   "display_name": "Python 3",
   "language": "python",
   "name": "python3"
  },
  "language_info": {
   "codemirror_mode": {
    "name": "ipython",
    "version": 2
   },
   "file_extension": ".py",
   "mimetype": "text/x-python",
   "name": "python",
   "nbconvert_exporter": "python",
   "pygments_lexer": "ipython2",
   "version": "2.7.6"
  }
 },
 "nbformat": 4,
 "nbformat_minor": 5
}
