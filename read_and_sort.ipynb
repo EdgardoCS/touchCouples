{
 "cells": [
  {
   "cell_type": "code",
   "id": "initial_id",
   "metadata": {
    "ExecuteTime": {
     "end_time": "2025-10-23T08:42:38.059038Z",
     "start_time": "2025-10-23T08:42:37.749403Z"
    }
   },
   "source": [
    "import warnings\n",
    "import numpy as np\n",
    "import pandas as pd\n",
    "import seaborn as sns\n",
    "import scipy.stats as stats\n",
    "import matplotlib.pyplot as plt\n",
    "from scipy.stats import spearmanr\n",
    "from statannotations.Annotator import Annotator\n",
    "from xarray.ufuncs import angle\n",
    "\n",
    "pd.options.mode.chained_assignment = None\n",
    "warnings.filterwarnings('ignore')"
   ],
   "outputs": [],
   "execution_count": 1
  },
  {
   "metadata": {
    "ExecuteTime": {
     "end_time": "2025-10-23T08:42:38.103769Z",
     "start_time": "2025-10-23T08:42:38.064218Z"
    }
   },
   "cell_type": "code",
   "source": [
    "# Read data (output from FReDA_Touch_genVariables_final.do)\n",
    "df = pd.read_csv('source/FReDA.csv')"
   ],
   "id": "d88c3093ef1c6573",
   "outputs": [],
   "execution_count": 2
  },
  {
   "metadata": {
    "ExecuteTime": {
     "end_time": "2025-10-23T08:42:38.112235Z",
     "start_time": "2025-10-23T08:42:38.109302Z"
    }
   },
   "cell_type": "code",
   "source": [
    "# Add index \"Id\"\n",
    "df['Id'] = np.arange(1, df.shape[0] + 1)\n",
    "df.insert(0, 'Id', df.pop('Id'))"
   ],
   "id": "17c0d74e890a4ff1",
   "outputs": [],
   "execution_count": 3
  },
  {
   "metadata": {
    "ExecuteTime": {
     "end_time": "2025-10-23T08:42:38.119667Z",
     "start_time": "2025-10-23T08:42:38.116246Z"
    }
   },
   "cell_type": "code",
   "source": [
    "# Variables to map columns\n",
    "# New values could be assigned as 'in-between' values to ease plotting and calculations\n",
    "overall_options = {\n",
    "    'index_options': {\n",
    "        '0x': 0,\n",
    "        '1-5x': 1,\n",
    "        '6-10x': 2,\n",
    "        '11-20x': 3,\n",
    "        '21-50x': 4,\n",
    "        '> 50x': 5\n",
    "    },\n",
    "    'sex_options': {\n",
    "        'Male': 0,\n",
    "        'Female': 1,\n",
    "    },\n",
    "    'omo_options': {\n",
    "        'Not at all': 0,\n",
    "        '1 to 5 times': 1,\n",
    "        '6 to 10 times': 2,\n",
    "        '11 to 20 times': 3,\n",
    "        '21 to 50 times': 4,\n",
    "        'More than 50 times': 5\n",
    "    },\n",
    "    'satisfaction_options': {\n",
    "        '0 - Not at all satisfied': 0,\n",
    "        '1': 2,\n",
    "        '2': 2,\n",
    "        '3': 4,\n",
    "        '4': 4,\n",
    "        '5': 6,\n",
    "        '6': 6,\n",
    "        '7': 8,\n",
    "        '8': 8,\n",
    "        '9': 10,\n",
    "        '10 - Completely satisfied': 10\n",
    "    },\n",
    "    'duration_options': {\n",
    "        '0-2': 1,\n",
    "        '3-5': 2,\n",
    "        '6-10': 3,\n",
    "        '11-20': 4,\n",
    "        '21+': 5,\n",
    "    },\n",
    "    'kids_options': {\n",
    "        '0': 0,\n",
    "        '1': 1,\n",
    "        '2': 2,\n",
    "        '3+': 3,\n",
    "    },\n",
    "    'Loneliness_options': {\n",
    "        '1 - Not at all': 1,\n",
    "        '2': 2,\n",
    "        '3': 3,\n",
    "        '4': 4,\n",
    "        '5 - Absolutely': 5\n",
    "    },\n",
    "    'cohabitation-options': {\n",
    "        'Separate households': 0,\n",
    "        'Cohabiting': 1,\n",
    "    },\n",
    "    'work-options': {\n",
    "        'Home': 0,\n",
    "        'Part-time activity': 1,\n",
    "        'Full time activity': 2,\n",
    "    },\n",
    "    'rel_sex-options': {\n",
    "        'Different sex': 0,\n",
    "        'Same sex': 1\n",
    "    },\n",
    "    'germany-options': {\n",
    "        'East Germany': 0,\n",
    "        'West Germany': 1,\n",
    "    },\n",
    "    'urbanization-options': {\n",
    "        'Rural area': 0,\n",
    "        'Town or suburb': 1,\n",
    "        'City': 2,\n",
    "    },\n",
    "    'married-options': {\n",
    "        'Not married': 0,\n",
    "        'Married': 1,\n",
    "    },\n",
    "    'age_diff_options': {\n",
    "        '> 10y. older partner': 3,\n",
    "        '> 10y. younger partner': -3,\n",
    "        '2-5y. older partner': 2,\n",
    "        '2-5y. younger partner': -2,\n",
    "        '6-10y. older partner': 1,\n",
    "        '6-10y. younger partner': -1,\n",
    "        'Same age': 0\n",
    "    },\n",
    "    'kid_age_options': {\n",
    "        \"0-1\": 1,\n",
    "        \"2-5\": 2,\n",
    "        \"6-13\": 3,\n",
    "        \"14-17\": 4,\n",
    "        \"18+\": 5\n",
    "    }\n",
    "}"
   ],
   "id": "a783ead3d729b97a",
   "outputs": [],
   "execution_count": 4
  },
  {
   "metadata": {
    "ExecuteTime": {
     "end_time": "2025-10-23T08:42:38.132715Z",
     "start_time": "2025-10-23T08:42:38.123676Z"
    }
   },
   "cell_type": "code",
   "source": [
    "# Change column names\n",
    "col_names = {\n",
    "    # TOUCH-RELATED\n",
    "    'omo15i1_w2b': 'Anchor Kiss Frequency',\n",
    "    'omo15i2_w2b': 'Anchor Kiss Wish',\n",
    "    'pomo15i1_w2b': 'Partner Kiss Frequency',\n",
    "    'pomo15i2_w2b': 'Partner Kiss Wish',\n",
    "    'omo16i1_w2b': 'Anchor Hold Frequency',\n",
    "    'omo16i2_w2b': 'Anchor Hold Wish',\n",
    "    'pomo16i1_w2b': 'Partner Hold Frequency',\n",
    "    'pomo16i2_w2b': 'Partner Hold Wish',\n",
    "    'omo17i1_w2b': 'Anchor Hug Frequency',\n",
    "    'omo17i2_w2b': 'Anchor Hug Wish',\n",
    "    'pomo17i1_w2b': 'Partner Hug Frequency',\n",
    "    'pomo17i2_w2b': 'Partner Hug Wish',\n",
    "\n",
    "    # SOCIODEMOGRAPHICS\n",
    "    'sex': 'Anchor Sex',  # Female, Male, Diverse\n",
    "    'psex': 'Partner Sex',  # Female, Male, Diverse\n",
    "    'age': 'Anchor Age',  # int\n",
    "    'page': 'Partner Age',  # int\n",
    "    'workst': 'Anchor Work Status',  # Full-time activity, Part-time activity, Home\n",
    "    'pworkst': 'Partner Work Status',  # Full-time activity, Part-time activity, Home\n",
    "    'east': 'Anchor East',  # East, West\n",
    "    'peast': 'Partner East',  # East, West\n",
    "    'degurba': 'Anchor Urbanization',\n",
    "    'pdegurba': 'Partner Urbanization',\n",
    "\n",
    "    #PERSONALITY\n",
    "    'extr': 'Anchor Extraversion',\n",
    "    'pextr': 'Partner Extraversion',\n",
    "    'agree': 'Anchor Agreeableness',\n",
    "    'pagree': 'Partner Agreeableness',\n",
    "    'consc': 'Anchor Conscientiousness',\n",
    "    'pconsc': 'Partner Conscientiousness',\n",
    "    'open': 'Anchor Openness',\n",
    "    'popen': 'Partner Openness',\n",
    "    'neur': 'Anchor Neuroticism',\n",
    "    'pneur': 'Partner Neuroticism',\n",
    "    'consv': 'Anchor Conservatism',\n",
    "    'pconsv': 'Partner Conservatism',\n",
    "    'god': 'Anchor Religiosity',\n",
    "    'pgod': 'Partner Religiosity',\n",
    "\n",
    "    #WELLBEING\n",
    "    'depr': 'Anchor Depressiveness',\n",
    "    'pdepr': 'Partner Depressiveness',\n",
    "    'loneliness': 'Anchor Loneliness',\n",
    "    'ploneliness': 'Partner Loneliness',\n",
    "    'self': 'Anchor Self-esteem',\n",
    "    'pself': 'Partner Self-esteem',\n",
    "    'lifsat': 'Anchor Life Satisfaction',\n",
    "    'plifsat': 'Partner Life Satisfaction',\n",
    "    'health': 'Anchor Health',\n",
    "    'phealth': 'Partner Health',\n",
    "\n",
    "    #RELATIONSHIP\n",
    "    'samesex': 'Relationship Sex',\n",
    "    'reldur_class': 'Relationship Length',\n",
    "    'ykage_class_w2b': 'Kid Age',\n",
    "    'married': 'Married',\n",
    "    'cohab': 'Cohabitation',\n",
    "    'nkidsliv_class': 'Kids',\n",
    "    'relint': 'Anchor Communication Quality',\n",
    "    'prelint': 'Partner Communication Quality',\n",
    "    'relsat': 'Anchor Relationship Satisfaction',\n",
    "    'prelsat': 'Partner Relationship Satisfaction',\n",
    "    'confm': 'Anchor Conflict Management',\n",
    "    'pconfm': 'Partner Conflict Management',\n",
    "    'agediff_class': 'Age difference',\n",
    "}\n",
    "\n",
    "# Rename columns to ease understanding\n",
    "df = df.rename(\n",
    "    columns=col_names\n",
    ")"
   ],
   "id": "21bbd54a2f434cfd",
   "outputs": [],
   "execution_count": 5
  },
  {
   "metadata": {
    "ExecuteTime": {
     "end_time": "2025-10-23T08:42:38.144353Z",
     "start_time": "2025-10-23T08:42:38.136720Z"
    }
   },
   "cell_type": "code",
   "source": [
    "# Drop unused columns\n",
    "df = df.drop([\n",
    "    'reldur', 'tf_kiss', 'ptf_kiss', 'tf_hold', 'tf_hug', 'ptf_kiss', 'ptf_hold', 'ptf_hug'], axis=1).reset_index(\n",
    "    drop=True)"
   ],
   "id": "dccdbe94bce0d25c",
   "outputs": [],
   "execution_count": 6
  },
  {
   "metadata": {
    "ExecuteTime": {
     "end_time": "2025-10-23T08:42:38.166483Z",
     "start_time": "2025-10-23T08:42:38.148869Z"
    }
   },
   "cell_type": "code",
   "source": [
    "# Dummy code varibles\n",
    "df['Anchor Relationship Satisfaction'] = df['Anchor Relationship Satisfaction'].map(\n",
    "    overall_options[\"satisfaction_options\"])\n",
    "df['Partner Relationship Satisfaction'] = df['Partner Relationship Satisfaction'].map(\n",
    "    overall_options[\"satisfaction_options\"])\n",
    "df['Anchor Life Satisfaction'] = df['Anchor Life Satisfaction'].map(overall_options[\"satisfaction_options\"])\n",
    "df['Partner Life Satisfaction'] = df['Partner Life Satisfaction'].map(overall_options[\"satisfaction_options\"])\n",
    "\n",
    "df['Anchor Sex'] = df['Anchor Sex'].map(overall_options[\"sex_options\"])\n",
    "df['Anchor Kiss Frequency'] = df['Anchor Kiss Frequency'].map(overall_options[\"omo_options\"])\n",
    "df['Anchor Hold Frequency'] = df['Anchor Hold Frequency'].map(overall_options[\"omo_options\"])\n",
    "df['Anchor Hug Frequency'] = df['Anchor Hug Frequency'].map(overall_options[\"omo_options\"])\n",
    "df['Anchor Kiss Wish'] = df['Anchor Kiss Wish'].map(overall_options[\"omo_options\"])\n",
    "df['Anchor Hold Wish'] = df['Anchor Hold Wish'].map(overall_options[\"omo_options\"])\n",
    "df['Anchor Hug Wish'] = df['Anchor Hug Wish'].map(overall_options[\"omo_options\"])\n",
    "\n",
    "df['Partner Sex'] = df['Partner Sex'].map(overall_options[\"sex_options\"])\n",
    "df['Partner Kiss Frequency'] = df['Partner Kiss Frequency'].map(overall_options[\"omo_options\"])\n",
    "df['Partner Hold Frequency'] = df['Partner Hold Frequency'].map(overall_options[\"omo_options\"])\n",
    "df['Partner Hug Frequency'] = df['Partner Hug Frequency'].map(overall_options[\"omo_options\"])\n",
    "df['Partner Kiss Wish'] = df['Partner Kiss Wish'].map(overall_options[\"omo_options\"])\n",
    "df['Partner Hold Wish'] = df['Partner Hold Wish'].map(overall_options[\"omo_options\"])\n",
    "df['Partner Hug Wish'] = df['Partner Hug Wish'].map(overall_options[\"omo_options\"])\n",
    "\n",
    "df['Relationship Length'] = df['Relationship Length'].map(overall_options[\"duration_options\"])\n",
    "df['Kids'] = df['Kids'].map(overall_options['kids_options'])\n",
    "\n",
    "df['Anchor Loneliness'] = df['Anchor Loneliness'].map(overall_options['Loneliness_options'])\n",
    "df['Partner Loneliness'] = df['Partner Loneliness'].map(overall_options['Loneliness_options'])\n",
    "\n",
    "df['Cohabitation'] = df['Cohabitation'].map(overall_options['cohabitation-options'])\n",
    "\n",
    "df['Anchor Work Status'] = df['Anchor Work Status'].map(overall_options['work-options'])\n",
    "df['Partner Work Status'] = df['Partner Work Status'].map(overall_options['work-options'])\n",
    "\n",
    "df['Anchor East'] = df['Anchor East'].map(overall_options['germany-options'])\n",
    "df['Partner East'] = df['Partner East'].map(overall_options['germany-options'])\n",
    "\n",
    "df['Anchor Urbanization'] = df['Anchor Urbanization'].map(overall_options['urbanization-options'])\n",
    "df['Partner Urbanization'] = df['Partner Urbanization'].map(overall_options['urbanization-options'])\n",
    "\n",
    "df['Married'] = df['Married'].map(overall_options['married-options'])\n",
    "\n",
    "df['Relationship Sex'] = df['Relationship Sex'].map(overall_options['rel_sex-options'])\n",
    "\n",
    "df['Age difference'] = df['Age difference'].map(overall_options['age_diff_options'])\n",
    "\n",
    "df['Kid Age'] = df['Kid Age'].map(overall_options['kid_age_options']).fillna(0)"
   ],
   "id": "edf8b900c868a3a3",
   "outputs": [],
   "execution_count": 7
  },
  {
   "metadata": {
    "ExecuteTime": {
     "end_time": "2025-10-23T08:42:38.180966Z",
     "start_time": "2025-10-23T08:42:38.171967Z"
    }
   },
   "cell_type": "code",
   "source": [
    "# Remove nan in touch variables (since they are our target)\n",
    "col_names = [\n",
    "    'Anchor Kiss Frequency',\n",
    "    'Anchor Kiss Wish',\n",
    "    'Partner Kiss Frequency',\n",
    "    'Partner Kiss Wish',\n",
    "    'Anchor Hold Frequency',\n",
    "    'Anchor Hold Wish',\n",
    "    'Partner Hold Frequency',\n",
    "    'Partner Hold Wish',\n",
    "    'Anchor Hug Frequency',\n",
    "    'Anchor Hug Wish',\n",
    "    'Partner Hug Frequency',\n",
    "    'Partner Hug Wish',\n",
    "]\n",
    "df = df.dropna(subset=col_names).reset_index(drop=True)"
   ],
   "id": "173f82f7e7e5833b",
   "outputs": [],
   "execution_count": 8
  },
  {
   "metadata": {
    "ExecuteTime": {
     "end_time": "2025-10-23T08:42:38.195544Z",
     "start_time": "2025-10-23T08:42:38.184980Z"
    }
   },
   "cell_type": "code",
   "source": [
    "# Calculate mean Frequency\n",
    "df['Anchor Frequency of Touch'] = (df[['Anchor Kiss Frequency', 'Anchor Hold Frequency', 'Anchor Hug Frequency']].\n",
    "                                   mean(axis=1))\n",
    "df['Partner Frequency of Touch'] = (df[['Partner Kiss Frequency', 'Partner Hold Frequency', 'Partner Hug Frequency']].\n",
    "                                    mean(axis=1))\n",
    "df['Couple Frequency of Touch'] = (df[['Anchor Frequency of Touch', 'Partner Frequency of Touch']].\n",
    "                                   mean(axis=1))\n",
    "\n",
    "# Calculate mean Wish\n",
    "df['Anchor Wish for Touch'] = (df[['Anchor Kiss Wish', 'Anchor Hold Wish', 'Anchor Hug Wish']].\n",
    "                               mean(axis=1))\n",
    "df['Partner Wish for Touch'] = (df[['Partner Kiss Wish', 'Partner Hold Wish', 'Partner Hug Wish']].\n",
    "                                mean(axis=1))\n",
    "df['Couple Wish for Touch'] = (df[['Anchor Wish for Touch', 'Partner Wish for Touch']].\n",
    "                               mean(axis=1))\n",
    "\n",
    "# Calculate individual differences\n",
    "df['Anchor Kiss Difference'] = df['Anchor Kiss Wish'] - df['Anchor Kiss Frequency']\n",
    "df['Anchor Hold Difference'] = df['Anchor Hold Wish'] - df['Anchor Hold Frequency']\n",
    "df['Anchor Hug Difference'] = df['Anchor Hug Wish'] - df['Anchor Hug Frequency']\n",
    "\n",
    "df['Partner Kiss Difference'] = df['Partner Kiss Wish'] - df['Partner Kiss Frequency']\n",
    "df['Partner Hold Difference'] = df['Partner Hold Wish'] - df['Partner Hold Frequency']\n",
    "df['Partner Hug Difference'] = df['Partner Hug Wish'] - df['Partner Hug Frequency']"
   ],
   "id": "9d07095a1fff8d2d",
   "outputs": [],
   "execution_count": 9
  },
  {
   "metadata": {
    "ExecuteTime": {
     "end_time": "2025-10-23T08:42:38.207085Z",
     "start_time": "2025-10-23T08:42:38.199085Z"
    }
   },
   "cell_type": "code",
   "source": [
    "# make sure data is correct\n",
    "df = df[(df['Anchor Age'] != -7) & (df['Partner Age'] != -7)].reset_index(drop=True)"
   ],
   "id": "bf5ef0173b3ece6f",
   "outputs": [],
   "execution_count": 10
  },
  {
   "metadata": {
    "ExecuteTime": {
     "end_time": "2025-10-23T08:42:38.216303Z",
     "start_time": "2025-10-23T08:42:38.213304Z"
    }
   },
   "cell_type": "code",
   "source": [
    "# Optional, drop every NaN\n",
    "# df.dropna()"
   ],
   "id": "fad03558a98e168f",
   "outputs": [],
   "execution_count": 11
  },
  {
   "metadata": {
    "ExecuteTime": {
     "end_time": "2025-10-23T08:42:38.224485Z",
     "start_time": "2025-10-23T08:42:38.219985Z"
    }
   },
   "cell_type": "code",
   "source": [
    "df['Anchor Divergence'] = df['Anchor Wish for Touch'] - df['Anchor Frequency of Touch']\n",
    "df['Partner Divergence'] = df['Partner Wish for Touch'] - df['Partner Frequency of Touch']\n",
    "df['Couple Divergence'] = df['Couple Wish for Touch'] - df['Couple Frequency of Touch']"
   ],
   "id": "944e4fc87970b90a",
   "outputs": [],
   "execution_count": 12
  },
  {
   "metadata": {
    "ExecuteTime": {
     "end_time": "2025-10-23T08:42:38.232051Z",
     "start_time": "2025-10-23T08:42:38.229972Z"
    }
   },
   "cell_type": "code",
   "source": "",
   "id": "a07ead82941623d5",
   "outputs": [],
   "execution_count": null
  },
  {
   "metadata": {
    "ExecuteTime": {
     "end_time": "2025-10-23T08:42:38.244098Z",
     "start_time": "2025-10-23T08:42:38.236591Z"
    }
   },
   "cell_type": "code",
   "source": [
    "# I am okay, and my partner is okay\n",
    "condition1 = (\n",
    "        (df['Anchor Divergence'] == 0) & (df['Partner Divergence'] == 0)\n",
    ")\n",
    "\n",
    "# I am deprived and my partner is okay\n",
    "condition2 = (\n",
    "        (df['Anchor Divergence'] > 0) & (df['Partner Divergence'] == 0)\n",
    ")\n",
    "\n",
    "# I am deprived and my partner is also deprived\n",
    "condition3 = (\n",
    "        (df['Anchor Divergence'] > 0) & (df['Partner Divergence'] > 0)\n",
    ")\n",
    "\n",
    "# I am deprived but my partner is saturated\n",
    "condition4 = (\n",
    "        (df['Anchor Divergence'] > 0) & (df['Partner Divergence'] < 0)\n",
    ")\n",
    "\n",
    "# I am saturated and my partner is okay\n",
    "condition5 = (\n",
    "        (df['Anchor Divergence'] < 0) & (df['Partner Divergence'] == 0)\n",
    ")\n",
    "\n",
    "# I am saturated and my partner is also saturated\n",
    "condition6 = (\n",
    "        (df['Anchor Divergence'] < 0) & (df['Partner Divergence'] < 0)\n",
    ")\n",
    "\n",
    "# I am okay but my partner is deprived\n",
    "condition7 = (\n",
    "        (df['Anchor Divergence'] == 0) & (df['Partner Divergence'] > 0)\n",
    ")\n",
    "\n",
    "# I am okay but my partner is saturated\n",
    "condition8 = (\n",
    "        (df['Anchor Divergence'] == 0) & (df['Partner Divergence'] < 0)\n",
    ")\n",
    "\n",
    "# I am saturated but my partner is deprived\n",
    "condition9 = (\n",
    "        (df['Anchor Divergence'] < 0) & (df['Partner Divergence'] > 0)\n",
    ")\n",
    "\n",
    "df.loc[condition1, 'Group1'] = 'SubGroup1'\n",
    "df.loc[condition2, 'Group1'] = 'SubGroup2'\n",
    "df.loc[condition3, 'Group1'] = 'SubGroup3'\n",
    "df.loc[condition4, 'Group1'] = 'SubGroup4'\n",
    "df.loc[condition5, 'Group1'] = 'SubGroup5'\n",
    "df.loc[condition6, 'Group1'] = 'SubGroup6'\n",
    "df.loc[condition7, 'Group1'] = 'SubGroup7'\n",
    "df.loc[condition8, 'Group1'] = 'SubGroup8'\n",
    "df.loc[condition9, 'Group1'] = 'SubGroup9'"
   ],
   "id": "fef769cfa7cdfbf5",
   "outputs": [],
   "execution_count": 13
  },
  {
   "metadata": {
    "ExecuteTime": {
     "end_time": "2025-10-23T08:42:38.256004Z",
     "start_time": "2025-10-23T08:42:38.248999Z"
    }
   },
   "cell_type": "code",
   "source": [
    "# 1- How many are in Agreement with touch\n",
    "df.groupby(by=[\"Group1\"]).count()[\"Id\"]"
   ],
   "id": "12e65949eddd1c5b",
   "outputs": [
    {
     "data": {
      "text/plain": [
       "Group1\n",
       "SubGroup1    1921\n",
       "SubGroup2    1042\n",
       "SubGroup3    1701\n",
       "SubGroup4     146\n",
       "SubGroup5     142\n",
       "SubGroup6      45\n",
       "SubGroup7    1428\n",
       "SubGroup8     191\n",
       "SubGroup9     184\n",
       "Name: Id, dtype: int64"
      ]
     },
     "execution_count": 14,
     "metadata": {},
     "output_type": "execute_result"
    }
   ],
   "execution_count": 14
  },
  {
   "metadata": {
    "ExecuteTime": {
     "end_time": "2025-10-23T08:42:38.396478Z",
     "start_time": "2025-10-23T08:42:38.282262Z"
    }
   },
   "cell_type": "code",
   "source": [
    "group_labels = [\n",
    "    'I am okay and my partner is okay', 'I am deprived and my partner is okay',\n",
    "    'I am deprived and my partner is deprived', 'I am deprived and my partner is saturated',\n",
    "    'I am saturated and my partner is okay', 'I am saturated and my partner is saturated',\n",
    "    'I am okay and my partner is deprived', 'I am okay and my partner is saturated',\n",
    "    'I am saturated and my partner is deprived'\n",
    "]\n",
    "\n",
    "df['Group1'] = pd.Categorical(\n",
    "    df['Group1'], ['SubGroup1',\n",
    "                   'SubGroup2',\n",
    "                   'SubGroup3',\n",
    "                   'SubGroup4',\n",
    "                   'SubGroup5',\n",
    "                   'SubGroup6',\n",
    "                   'SubGroup7',\n",
    "                   'SubGroup8',\n",
    "                   'SubGroup9'\n",
    "                   ]\n",
    ")\n",
    "\n",
    "ax = sns.histplot(\n",
    "    data=df, x='Group1',\n",
    "    element='bars',\n",
    "    binwidth=0.5,\n",
    "    color='#1d91c0',\n",
    "    common_norm=False,\n",
    "    multiple=\"dodge\",\n",
    "    linewidth=1,\n",
    "    edgecolor='black',\n",
    ")\n",
    "for p in ax.patches:\n",
    "    height = p.get_height()\n",
    "    ax.text(\n",
    "        p.get_x() + p.get_width() / 2.,\n",
    "        height,\n",
    "        int(height),\n",
    "        ha=\"center\", va=\"bottom\"\n",
    "    )\n",
    "plt.grid(False)\n",
    "plt.ylabel(\"Subjects\")\n",
    "plt.xticks(rotation=90, ticks=[0, 1, 2, 3, 4, 5, 6, 7, 8], labels=group_labels)"
   ],
   "id": "f939c251108a636c",
   "outputs": [
    {
     "data": {
      "text/plain": [
       "([<matplotlib.axis.XTick at 0x294ef62aed0>,\n",
       "  <matplotlib.axis.XTick at 0x294ef62bc50>,\n",
       "  <matplotlib.axis.XTick at 0x294ef694920>,\n",
       "  <matplotlib.axis.XTick at 0x294ef695340>,\n",
       "  <matplotlib.axis.XTick at 0x294ef695d90>,\n",
       "  <matplotlib.axis.XTick at 0x294ef695910>,\n",
       "  <matplotlib.axis.XTick at 0x294ef696a20>,\n",
       "  <matplotlib.axis.XTick at 0x294ef697470>,\n",
       "  <matplotlib.axis.XTick at 0x294ef697ec0>],\n",
       " [Text(0, 0, 'I am okay and my partner is okay'),\n",
       "  Text(1, 0, 'I am deprived and my partner is okay'),\n",
       "  Text(2, 0, 'I am deprived and my partner is deprived'),\n",
       "  Text(3, 0, 'I am deprived and my partner is saturated'),\n",
       "  Text(4, 0, 'I am saturated and my partner is okay'),\n",
       "  Text(5, 0, 'I am saturated and my partner is saturated'),\n",
       "  Text(6, 0, 'I am okay and my partner is deprived'),\n",
       "  Text(7, 0, 'I am okay and my partner is saturated'),\n",
       "  Text(8, 0, 'I am saturated and my partner is deprived')])"
      ]
     },
     "execution_count": 15,
     "metadata": {},
     "output_type": "execute_result"
    },
    {
     "data": {
      "text/plain": [
       "<Figure size 640x480 with 1 Axes>"
      ],
      "image/png": "[encoded data removed]"
     },
     "metadata": {},
     "output_type": "display_data",
     "jetTransient": {
      "display_id": null
     }
    }
   ],
   "execution_count": 15
  },
  {
   "metadata": {
    "ExecuteTime": {
     "end_time": "2025-10-23T08:42:38.423847Z",
     "start_time": "2025-10-23T08:42:38.418519Z"
    }
   },
   "cell_type": "code",
   "source": [
    "# 1- How many (%) are in Agreement with touch\n",
    "df.groupby(by=[\"Group1\"]).count()[\"Id\"] / len(df) * 100"
   ],
   "id": "7fc96fd4a8e38f3e",
   "outputs": [
    {
     "data": {
      "text/plain": [
       "Group1\n",
       "SubGroup1    28.250000\n",
       "SubGroup2    15.323529\n",
       "SubGroup3    25.014706\n",
       "SubGroup4     2.147059\n",
       "SubGroup5     2.088235\n",
       "SubGroup6     0.661765\n",
       "SubGroup7    21.000000\n",
       "SubGroup8     2.808824\n",
       "SubGroup9     2.705882\n",
       "Name: Id, dtype: float64"
      ]
     },
     "execution_count": 16,
     "metadata": {},
     "output_type": "execute_result"
    }
   ],
   "execution_count": 16
  },
  {
   "metadata": {
    "ExecuteTime": {
     "end_time": "2025-10-23T08:42:38.461158Z",
     "start_time": "2025-10-23T08:42:38.454650Z"
    }
   },
   "cell_type": "code",
   "source": [
    "condition1 = (\n",
    "        (df['Anchor Divergence'] == 0) & (df['Partner Divergence'] == 0)\n",
    ")\n",
    "\n",
    "condition2 = (\n",
    "        (df['Anchor Divergence'] > 0) & (df['Partner Divergence'] == 0) |\n",
    "        (df['Anchor Divergence'] == 0) & (df['Partner Divergence'] > 0)\n",
    ")\n",
    "\n",
    "condition3 = (\n",
    "        (df['Anchor Divergence'] < 0) & (df['Partner Divergence'] == 0) |\n",
    "        (df['Anchor Divergence'] == 0) & (df['Partner Divergence'] < 0)\n",
    ")\n",
    "\n",
    "condition4 = (\n",
    "        (df['Anchor Divergence'] > 0) & (df['Partner Divergence'] > 0)\n",
    ")\n",
    "\n",
    "condition5 = (\n",
    "        (df['Anchor Divergence'] < 0) & (df['Partner Divergence'] < 0)\n",
    ")\n",
    "\n",
    "condition6 = (\n",
    "        (df['Anchor Divergence'] > 0) & (df['Partner Divergence'] < 0) |\n",
    "        (df['Anchor Divergence'] < 0) & (df['Partner Divergence'] > 0)\n",
    ")\n",
    "\n",
    "df.loc[condition1, 'Group2'] = 'Couple Agreement'\n",
    "df.loc[condition2, 'Group2'] = 'One-sided Deprivation'\n",
    "df.loc[condition3, 'Group2'] = 'One-sided Saturation'\n",
    "df.loc[condition4, 'Group2'] = 'Couple Deprivation'\n",
    "df.loc[condition5, 'Group2'] = 'Couple Saturation'\n",
    "df.loc[condition6, 'Group2'] = 'Couple Disagreement'"
   ],
   "id": "5d95b2f79e4a2d84",
   "outputs": [],
   "execution_count": 17
  },
  {
   "metadata": {
    "ExecuteTime": {
     "end_time": "2025-10-23T08:42:38.635212Z",
     "start_time": "2025-10-23T08:42:38.488189Z"
    }
   },
   "cell_type": "code",
   "source": [
    "df['Group2'] = pd.Categorical(\n",
    "    df['Group2'], ['Couple Agreement',\n",
    "                   'One-sided Deprivation',\n",
    "                   'One-sided Saturation',\n",
    "                   'Couple Deprivation',\n",
    "                   'Couple Saturation',\n",
    "                   'Couple Disagreement']\n",
    ")\n",
    "ax = sns.histplot(data=df, x='Group2',\n",
    "                  element='bars',\n",
    "                  binwidth=0.5,\n",
    "                  color='#1d91c0',\n",
    "                  common_norm=False,\n",
    "                  multiple=\"dodge\",\n",
    "                  linewidth=1,\n",
    "                  edgecolor='black',\n",
    "                  )\n",
    "for p in ax.patches:\n",
    "    height = p.get_height()\n",
    "    ax.text(\n",
    "        p.get_x() + p.get_width() / 2.,\n",
    "        height,\n",
    "        int(height),\n",
    "        ha=\"center\", va=\"bottom\"\n",
    "    )\n",
    "plt.grid(False)\n",
    "plt.ylabel(\"Couples\")\n",
    "plt.xlabel(\"\")\n",
    "plt.xticks(rotation=90, )\n",
    "plt.ylim(0, 2800)\n",
    "plt.savefig('output/img_bg/subgroup_histogram.png', dpi=350, transparent=False, bbox_inches='tight')"
   ],
   "id": "6a9fc49f1753bbd4",
   "outputs": [
    {
     "data": {
      "text/plain": [
       "<Figure size 640x480 with 1 Axes>"
      ],
      "image/png": "[encoded data removed]"
     },
     "metadata": {},
     "output_type": "display_data",
     "jetTransient": {
      "display_id": null
     }
    }
   ],
   "execution_count": 18
  },
  {
   "metadata": {
    "ExecuteTime": {
     "end_time": "2025-10-23T08:42:38.645298Z",
     "start_time": "2025-10-23T08:42:38.639297Z"
    }
   },
   "cell_type": "code",
   "source": "df.groupby(by=[\"Group2\"]).count()[\"Id\"] / len(df) * 100",
   "id": "6a454923e5bdb860",
   "outputs": [
    {
     "data": {
      "text/plain": [
       "Group2\n",
       "Couple Agreement         28.250000\n",
       "One-sided Deprivation    36.323529\n",
       "One-sided Saturation      4.897059\n",
       "Couple Deprivation       25.014706\n",
       "Couple Saturation         0.661765\n",
       "Couple Disagreement       4.852941\n",
       "Name: Id, dtype: float64"
      ]
     },
     "execution_count": 19,
     "metadata": {},
     "output_type": "execute_result"
    }
   ],
   "execution_count": 19
  },
  {
   "metadata": {
    "ExecuteTime": {
     "end_time": "2025-10-23T08:42:38.670349Z",
     "start_time": "2025-10-23T08:42:38.665771Z"
    }
   },
   "cell_type": "code",
   "source": [
    "df[\"Anchor Perception of Touch\"] = \"Satisfied\"\n",
    "df[\"Partner Perception of Touch\"] = \"Satisfied\"\n",
    "\n",
    "temp1 = df[\"Anchor Divergence\"]\n",
    "df.loc[temp1 > 0, \"Anchor Perception of Touch\"] = \"Deprived\"\n",
    "df.loc[temp1 < 0, \"Anchor Perception of Touch\"] = \"Saturated\"\n",
    "\n",
    "temp2 = df[\"Partner Divergence\"]\n",
    "df.loc[temp2 > 0, \"Partner Perception of Touch\"] = \"Deprived\"\n",
    "df.loc[temp2 < 0, \"Partner Perception of Touch\"] = \"Saturated\""
   ],
   "id": "32cf7f129f5b0f52",
   "outputs": [],
   "execution_count": 20
  },
  {
   "metadata": {
    "ExecuteTime": {
     "end_time": "2025-10-23T08:42:38.818135Z",
     "start_time": "2025-10-23T08:42:38.700044Z"
    }
   },
   "cell_type": "code",
   "source": "df.to_csv('source/FReDA3.csv', index=False)",
   "id": "a31809040ac55749",
   "outputs": [],
   "execution_count": 21
  },
  {
   "metadata": {
    "ExecuteTime": {
     "end_time": "2025-10-23T08:42:38.826149Z",
     "start_time": "2025-10-23T08:42:38.824148Z"
    }
   },
   "cell_type": "code",
   "source": "",
   "id": "1b262809ea426b28",
   "outputs": [],
   "execution_count": null
  },
  {
   "metadata": {
    "ExecuteTime": {
     "end_time": "2025-10-23T08:42:38.851624Z",
     "start_time": "2025-10-23T08:42:38.828761Z"
    }
   },
   "cell_type": "code",
   "source": [
    "couple_vars = [\n",
    "    'Id', 'Relationship Sex', 'Relationship Length', 'Cohabitation', 'Kids', 'Married',\n",
    "    'Age difference', 'Couple Frequency of Touch', 'Couple Wish for Touch',\n",
    "    'Couple Divergence', 'Group1', 'Group2'\n",
    "]\n",
    "\n",
    "# --- Separate the Anchor and Partner data ---\n",
    "anchor_df = df.filter(regex='^Anchor |^Id$').copy()\n",
    "partner_df = df.filter(regex='^Partner |^Id$').copy()\n",
    "\n",
    "# --- Rename columns (remove prefixes) ---\n",
    "anchor_df.columns = anchor_df.columns.str.replace('Anchor ', '', regex=False)\n",
    "partner_df.columns = partner_df.columns.str.replace('Partner ', '', regex=False)\n",
    "\n",
    "# --- Add role labels ---\n",
    "anchor_df['Role'] = 'Anchor'\n",
    "partner_df['Role'] = 'Partner'\n",
    "\n",
    "# --- Rename Id to CoupleId before combining ---\n",
    "anchor_df = anchor_df.rename(columns={'Id': 'CoupleId'})\n",
    "partner_df = partner_df.rename(columns={'Id': 'CoupleId'})\n",
    "\n",
    "# --- Combine Anchor and Partner rows ---\n",
    "df_long = pd.concat([anchor_df, partner_df], ignore_index=True)\n",
    "\n",
    "# --- Merge couple-level data ---\n",
    "df_long = df_long.merge(df[couple_vars].rename(columns={'Id': 'CoupleId'}), on='CoupleId', how='left')\n",
    "\n",
    "# Optional: reorder columns\n",
    "cols = ['CoupleId', 'Role'] + [c for c in df_long.columns if c not in ['CoupleId', 'Role']]\n",
    "df_long = df_long[cols]"
   ],
   "id": "8d5bc508e6ed2edc",
   "outputs": [],
   "execution_count": 22
  },
  {
   "metadata": {
    "ExecuteTime": {
     "end_time": "2025-10-23T08:42:38.986183Z",
     "start_time": "2025-10-23T08:42:38.856892Z"
    }
   },
   "cell_type": "code",
   "source": "df_long.to_csv('source/FReDA4.csv', index=False)",
   "id": "36fe808ec605d05b",
   "outputs": [],
   "execution_count": 23
  },
  {
   "metadata": {
    "ExecuteTime": {
     "end_time": "2025-10-23T08:42:39.078725Z",
     "start_time": "2025-10-23T08:42:38.990700Z"
    }
   },
   "cell_type": "code",
   "source": [
    "\n",
    "group_labels = [\n",
    "    'I am okay and my partner is okay', 'I am deprived and my partner is okay',\n",
    "    'I am deprived and my partner is deprived', 'I am deprived and my partner is saturated',\n",
    "    'I am saturated and my partner is okay', 'I am saturated and my partner is saturated',\n",
    "    'I am okay and my partner is deprived', 'I am okay and my partner is saturated',\n",
    "    'I am saturated and my partner is deprived'\n",
    "]\n",
    "\n",
    "df['Group1'] = pd.Categorical(\n",
    "    df['Group1'], ['SubGroup1',\n",
    "                   'SubGroup2',\n",
    "                   'SubGroup3',\n",
    "                   'SubGroup4',\n",
    "                   'SubGroup5',\n",
    "                   'SubGroup6',\n",
    "                   'SubGroup7',\n",
    "                   'SubGroup8',\n",
    "                   'SubGroup9'\n",
    "                   ]\n",
    ")\n",
    "\n",
    "ax = sns.histplot(data=df_long, x='Group1',\n",
    "                  element='bars',\n",
    "                  binwidth=0.5,\n",
    "                  color='#1d91c0',\n",
    "                  common_norm=False,\n",
    "                  multiple=\"dodge\",\n",
    "                  linewidth=1,\n",
    "                  edgecolor='black',\n",
    "                  )\n",
    "for p in ax.patches:\n",
    "    height = p.get_height()\n",
    "    ax.text(\n",
    "        p.get_x() + p.get_width() / 2.,\n",
    "        height,\n",
    "        int(height),\n",
    "        ha=\"center\", va=\"bottom\"\n",
    "    )\n",
    "plt.grid(False)\n",
    "plt.ylabel(\"Subjects\")\n",
    "\n",
    "plt.xticks(rotation=90, ticks=[0, 1, 2, 3, 4, 5, 6, 7, 8], labels=group_labels)\n",
    "\n",
    "\n"
   ],
   "id": "e7dee42dce61e391",
   "outputs": [
    {
     "data": {
      "text/plain": [
       "([<matplotlib.axis.XTick at 0x294ef777fb0>,\n",
       "  <matplotlib.axis.XTick at 0x294ef776750>,\n",
       "  <matplotlib.axis.XTick at 0x294ef76da30>,\n",
       "  <matplotlib.axis.XTick at 0x294ef7d1460>,\n",
       "  <matplotlib.axis.XTick at 0x294ef7d1640>,\n",
       "  <matplotlib.axis.XTick at 0x294ef840980>,\n",
       "  <matplotlib.axis.XTick at 0x294ef841370>,\n",
       "  <matplotlib.axis.XTick at 0x294ef7d1b50>,\n",
       "  <matplotlib.axis.XTick at 0x294ef841e50>],\n",
       " [Text(0, 0, 'I am okay and my partner is okay'),\n",
       "  Text(1, 0, 'I am deprived and my partner is okay'),\n",
       "  Text(2, 0, 'I am deprived and my partner is deprived'),\n",
       "  Text(3, 0, 'I am deprived and my partner is saturated'),\n",
       "  Text(4, 0, 'I am saturated and my partner is okay'),\n",
       "  Text(5, 0, 'I am saturated and my partner is saturated'),\n",
       "  Text(6, 0, 'I am okay and my partner is deprived'),\n",
       "  Text(7, 0, 'I am okay and my partner is saturated'),\n",
       "  Text(8, 0, 'I am saturated and my partner is deprived')])"
      ]
     },
     "execution_count": 24,
     "metadata": {},
     "output_type": "execute_result"
    },
    {
     "data": {
      "text/plain": [
       "<Figure size 640x480 with 1 Axes>"
      ],
      "image/png": "[encoded data removed]"
     },
     "metadata": {},
     "output_type": "display_data",
     "jetTransient": {
      "display_id": null
     }
    }
   ],
   "execution_count": 24
  },
  {
   "metadata": {
    "ExecuteTime": {
     "end_time": "2025-10-23T08:42:39.088235Z",
     "start_time": "2025-10-23T08:42:39.082731Z"
    }
   },
   "cell_type": "code",
   "source": "df.groupby(by=[\"Group1\"]).count()[\"Id\"] / len(df) * 100",
   "id": "3867a65498dfdcbc",
   "outputs": [
    {
     "data": {
      "text/plain": [
       "Group1\n",
       "SubGroup1    28.250000\n",
       "SubGroup2    15.323529\n",
       "SubGroup3    25.014706\n",
       "SubGroup4     2.147059\n",
       "SubGroup5     2.088235\n",
       "SubGroup6     0.661765\n",
       "SubGroup7    21.000000\n",
       "SubGroup8     2.808824\n",
       "SubGroup9     2.705882\n",
       "Name: Id, dtype: float64"
      ]
     },
     "execution_count": 25,
     "metadata": {},
     "output_type": "execute_result"
    }
   ],
   "execution_count": 25
  },
  {
   "metadata": {
    "ExecuteTime": {
     "end_time": "2025-10-23T08:42:39.124653Z",
     "start_time": "2025-10-23T08:42:39.108222Z"
    }
   },
   "cell_type": "code",
   "source": [
    "def val_to_category(val):\n",
    "    if val < 0.5:\n",
    "        return 0\n",
    "    elif val < 2:\n",
    "        return 1\n",
    "    elif val < 3:\n",
    "        return 2\n",
    "    elif val < 4:\n",
    "        return 3\n",
    "    elif val < 5:\n",
    "        return 4\n",
    "    else:\n",
    "        return 5\n",
    "\n",
    "\n",
    "df_long['Frequency of Touch'] = df_long['Frequency of Touch'].apply(val_to_category)\n",
    "df_long['Wish for Touch'] = df_long['Wish for Touch'].apply(val_to_category)\n",
    "\n",
    "overall = (\n",
    "    df_long['Frequency of Touch']\n",
    "    .value_counts()\n",
    "    .sort_index()\n",
    "    .rename_axis('Frequency of Touch')\n",
    "    .reset_index(name='Count')\n",
    ")\n",
    "overall['Percent'] = (overall['Count'] / overall['Count'].sum()) * 100\n",
    "\n",
    "cross = pd.crosstab(df_long['Group1'], df_long['Frequency of Touch'], margins=False)\n",
    "cross_percent = cross.div(cross.sum(axis=1), axis=0) * 100\n",
    "cross_combined = cross.astype(str) + \" (\" + cross_percent.round(1).astype(str) + \"%)\""
   ],
   "id": "142f7e5d2b8f434b",
   "outputs": [],
   "execution_count": 26
  },
  {
   "metadata": {
    "ExecuteTime": {
     "end_time": "2025-10-23T08:42:39.152316Z",
     "start_time": "2025-10-23T08:42:39.148964Z"
    }
   },
   "cell_type": "code",
   "source": [
    "df_summary = (\n",
    "    df_long.groupby('Group1')['Divergence']\n",
    "    .agg(['mean', 'std', 'median'])\n",
    "    .reset_index()\n",
    ")"
   ],
   "id": "49c49c9993485166",
   "outputs": [],
   "execution_count": 27
  }
 ],
 "metadata": {
  "kernelspec": {
   "display_name": "Python 3",
   "language": "python",
   "name": "python3"
  },
  "language_info": {
   "codemirror_mode": {
    "name": "ipython",
    "version": 2
   },
   "file_extension": ".py",
   "mimetype": "text/x-python",
   "name": "python",
   "nbconvert_exporter": "python",
   "pygments_lexer": "ipython2",
   "version": "2.7.6"
  }
 },
 "nbformat": 4,
 "nbformat_minor": 5
}
